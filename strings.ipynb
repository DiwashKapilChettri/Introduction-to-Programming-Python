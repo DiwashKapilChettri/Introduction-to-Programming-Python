{
 "cells": [
  {
   "cell_type": "code",
   "execution_count": 1,
   "id": "334d0311",
   "metadata": {},
   "outputs": [
    {
     "data": {
      "text/plain": [
       "'hello'"
      ]
     },
     "execution_count": 1,
     "metadata": {},
     "output_type": "execute_result"
    }
   ],
   "source": [
    "'hello'"
   ]
  },
  {
   "cell_type": "code",
   "execution_count": 2,
   "id": "eb501b48",
   "metadata": {},
   "outputs": [
    {
     "data": {
      "text/plain": [
       "'HELLO'"
      ]
     },
     "execution_count": 2,
     "metadata": {},
     "output_type": "execute_result"
    }
   ],
   "source": [
    "\"HELLO\""
   ]
  },
  {
   "cell_type": "code",
   "execution_count": 3,
   "id": "cc413a77",
   "metadata": {},
   "outputs": [
    {
     "name": "stdout",
     "output_type": "stream",
     "text": [
      "HELLO\n"
     ]
    }
   ],
   "source": [
    "print('HELLO')"
   ]
  },
  {
   "cell_type": "code",
   "execution_count": 5,
   "id": "692eaed1",
   "metadata": {},
   "outputs": [
    {
     "name": "stdout",
     "output_type": "stream",
     "text": [
      "It is a beautiful day ! \n",
      "I want to go out\n"
     ]
    }
   ],
   "source": [
    "print('It is a beautiful day ! \\nI want to go out')"
   ]
  },
  {
   "cell_type": "code",
   "execution_count": 6,
   "id": "8ecefbaa",
   "metadata": {},
   "outputs": [
    {
     "name": "stdout",
     "output_type": "stream",
     "text": [
      "Python uses indetntation \t those are spaces\n"
     ]
    }
   ],
   "source": [
    "print('Python uses indetntation \\t those are spaces')"
   ]
  },
  {
   "cell_type": "code",
   "execution_count": 7,
   "id": "2318af33",
   "metadata": {},
   "outputs": [],
   "source": [
    "my_string = 'tuesday'"
   ]
  },
  {
   "cell_type": "code",
   "execution_count": 8,
   "id": "7e1cb3a9",
   "metadata": {},
   "outputs": [
    {
     "data": {
      "text/plain": [
       "7"
      ]
     },
     "execution_count": 8,
     "metadata": {},
     "output_type": "execute_result"
    }
   ],
   "source": [
    "len(my_string)"
   ]
  },
  {
   "cell_type": "code",
   "execution_count": 9,
   "id": "cdadebb4",
   "metadata": {},
   "outputs": [
    {
     "data": {
      "text/plain": [
       "6"
      ]
     },
     "execution_count": 9,
     "metadata": {},
     "output_type": "execute_result"
    }
   ],
   "source": [
    "len('Diwash')"
   ]
  },
  {
   "cell_type": "code",
   "execution_count": null,
   "id": "e7e6b24b",
   "metadata": {},
   "outputs": [],
   "source": [
    "#Indexing"
   ]
  },
  {
   "cell_type": "code",
   "execution_count": 14,
   "id": "23b87ee9",
   "metadata": {},
   "outputs": [],
   "source": [
    "mystring = 'Hello World'"
   ]
  },
  {
   "cell_type": "code",
   "execution_count": 15,
   "id": "dd0bae0f",
   "metadata": {},
   "outputs": [
    {
     "data": {
      "text/plain": [
       "'Hello World'"
      ]
     },
     "execution_count": 15,
     "metadata": {},
     "output_type": "execute_result"
    }
   ],
   "source": [
    "mystring"
   ]
  },
  {
   "cell_type": "markdown",
   "id": "86921521",
   "metadata": {},
   "source": [
    "h e  l   l   o\n",
    "0 1  2   3   4\n",
    "             -1"
   ]
  },
  {
   "cell_type": "code",
   "execution_count": 16,
   "id": "300d1a4b",
   "metadata": {},
   "outputs": [
    {
     "data": {
      "text/plain": [
       "'H'"
      ]
     },
     "execution_count": 16,
     "metadata": {},
     "output_type": "execute_result"
    }
   ],
   "source": [
    "mystring[0]"
   ]
  },
  {
   "cell_type": "code",
   "execution_count": 19,
   "id": "df9c0108",
   "metadata": {},
   "outputs": [
    {
     "data": {
      "text/plain": [
       "' '"
      ]
     },
     "execution_count": 19,
     "metadata": {},
     "output_type": "execute_result"
    }
   ],
   "source": [
    "mystring[5]"
   ]
  },
  {
   "cell_type": "code",
   "execution_count": 21,
   "id": "4c01b26d",
   "metadata": {},
   "outputs": [
    {
     "data": {
      "text/plain": [
       "'W'"
      ]
     },
     "execution_count": 21,
     "metadata": {},
     "output_type": "execute_result"
    }
   ],
   "source": [
    "mystring[6]"
   ]
  },
  {
   "cell_type": "code",
   "execution_count": 22,
   "id": "f58e0122",
   "metadata": {},
   "outputs": [
    {
     "data": {
      "text/plain": [
       "'W'"
      ]
     },
     "execution_count": 22,
     "metadata": {},
     "output_type": "execute_result"
    }
   ],
   "source": [
    "mystring[-5]"
   ]
  },
  {
   "cell_type": "code",
   "execution_count": 24,
   "id": "0cebba0f",
   "metadata": {},
   "outputs": [
    {
     "data": {
      "text/plain": [
       "'d'"
      ]
     },
     "execution_count": 24,
     "metadata": {},
     "output_type": "execute_result"
    }
   ],
   "source": [
    "mystring[-1]"
   ]
  },
  {
   "cell_type": "code",
   "execution_count": 25,
   "id": "2f24f5e7",
   "metadata": {},
   "outputs": [
    {
     "data": {
      "text/plain": [
       "'ello World'"
      ]
     },
     "execution_count": 25,
     "metadata": {},
     "output_type": "execute_result"
    }
   ],
   "source": [
    "mystring[1:]"
   ]
  },
  {
   "cell_type": "code",
   "execution_count": 26,
   "id": "3019d59d",
   "metadata": {},
   "outputs": [],
   "source": [
    "#slicing [start:stop(this index will not be included):step]\n",
    "#[start:stop]"
   ]
  },
  {
   "cell_type": "code",
   "execution_count": 27,
   "id": "536fe257",
   "metadata": {},
   "outputs": [
    {
     "data": {
      "text/plain": [
       "'Hello World'"
      ]
     },
     "execution_count": 27,
     "metadata": {},
     "output_type": "execute_result"
    }
   ],
   "source": [
    "mystring"
   ]
  },
  {
   "cell_type": "code",
   "execution_count": 28,
   "id": "6f780051",
   "metadata": {},
   "outputs": [
    {
     "data": {
      "text/plain": [
       "'Hello'"
      ]
     },
     "execution_count": 28,
     "metadata": {},
     "output_type": "execute_result"
    }
   ],
   "source": [
    "mystring[0:5]"
   ]
  },
  {
   "cell_type": "code",
   "execution_count": 29,
   "id": "086c586c",
   "metadata": {},
   "outputs": [],
   "source": [
    "myname = 'DiwashKapilChettri'"
   ]
  },
  {
   "cell_type": "code",
   "execution_count": 30,
   "id": "4024d4b7",
   "metadata": {},
   "outputs": [
    {
     "data": {
      "text/plain": [
       "'DiwashKapilChettri'"
      ]
     },
     "execution_count": 30,
     "metadata": {},
     "output_type": "execute_result"
    }
   ],
   "source": [
    "myname"
   ]
  },
  {
   "cell_type": "code",
   "execution_count": 31,
   "id": "b5ef05ce",
   "metadata": {},
   "outputs": [
    {
     "data": {
      "text/plain": [
       "'Diwash'"
      ]
     },
     "execution_count": 31,
     "metadata": {},
     "output_type": "execute_result"
    }
   ],
   "source": [
    "myname[0:6]"
   ]
  },
  {
   "cell_type": "code",
   "execution_count": 32,
   "id": "5d1d7d28",
   "metadata": {},
   "outputs": [
    {
     "data": {
      "text/plain": [
       "'DiwashKapi'"
      ]
     },
     "execution_count": 32,
     "metadata": {},
     "output_type": "execute_result"
    }
   ],
   "source": [
    "myname[0:10]"
   ]
  },
  {
   "cell_type": "code",
   "execution_count": 33,
   "id": "21c15ccb",
   "metadata": {},
   "outputs": [
    {
     "data": {
      "text/plain": [
       "'DiwashKapilChettri'"
      ]
     },
     "execution_count": 33,
     "metadata": {},
     "output_type": "execute_result"
    }
   ],
   "source": [
    "myname[0:]"
   ]
  },
  {
   "cell_type": "code",
   "execution_count": 34,
   "id": "f2004e2a",
   "metadata": {},
   "outputs": [
    {
     "data": {
      "text/plain": [
       "'DiwashKapilChettri'"
      ]
     },
     "execution_count": 34,
     "metadata": {},
     "output_type": "execute_result"
    }
   ],
   "source": [
    "myname[:]"
   ]
  },
  {
   "cell_type": "code",
   "execution_count": 35,
   "id": "168932e1",
   "metadata": {},
   "outputs": [
    {
     "data": {
      "text/plain": [
       "'ashKapilChettri'"
      ]
     },
     "execution_count": 35,
     "metadata": {},
     "output_type": "execute_result"
    }
   ],
   "source": [
    "myname[3:]"
   ]
  },
  {
   "cell_type": "code",
   "execution_count": 36,
   "id": "e69f55a7",
   "metadata": {},
   "outputs": [
    {
     "data": {
      "text/plain": [
       "'Diw'"
      ]
     },
     "execution_count": 36,
     "metadata": {},
     "output_type": "execute_result"
    }
   ],
   "source": [
    "myname[:3]"
   ]
  },
  {
   "cell_type": "code",
   "execution_count": 37,
   "id": "a7dc8f1c",
   "metadata": {},
   "outputs": [],
   "source": [
    "#[start:stop]"
   ]
  },
  {
   "cell_type": "code",
   "execution_count": 38,
   "id": "21349d20",
   "metadata": {},
   "outputs": [
    {
     "data": {
      "text/plain": [
       "'wa'"
      ]
     },
     "execution_count": 38,
     "metadata": {},
     "output_type": "execute_result"
    }
   ],
   "source": [
    "myname[2:4]"
   ]
  },
  {
   "cell_type": "code",
   "execution_count": 40,
   "id": "32480e00",
   "metadata": {},
   "outputs": [
    {
     "data": {
      "text/plain": [
       "'DiwashKapilChettri'"
      ]
     },
     "execution_count": 40,
     "metadata": {},
     "output_type": "execute_result"
    }
   ],
   "source": [
    "myname[::1]"
   ]
  },
  {
   "cell_type": "code",
   "execution_count": 48,
   "id": "fa4b749a",
   "metadata": {},
   "outputs": [
    {
     "data": {
      "text/plain": [
       "'Dws'"
      ]
     },
     "execution_count": 48,
     "metadata": {},
     "output_type": "execute_result"
    }
   ],
   "source": [
    "myname[0:5:2]"
   ]
  },
  {
   "cell_type": "code",
   "execution_count": 49,
   "id": "11d3e69a",
   "metadata": {},
   "outputs": [
    {
     "data": {
      "text/plain": [
       "'i'"
      ]
     },
     "execution_count": 49,
     "metadata": {},
     "output_type": "execute_result"
    }
   ],
   "source": [
    "myname[-1]"
   ]
  },
  {
   "cell_type": "code",
   "execution_count": 50,
   "id": "b71a4e10",
   "metadata": {},
   "outputs": [
    {
     "data": {
      "text/plain": [
       "'irttehClipaKhsawiD'"
      ]
     },
     "execution_count": 50,
     "metadata": {},
     "output_type": "execute_result"
    }
   ],
   "source": [
    "myname[::-1]"
   ]
  },
  {
   "cell_type": "code",
   "execution_count": 54,
   "id": "d4d489c5",
   "metadata": {},
   "outputs": [],
   "source": [
    "myname = 'DiwashKapilChettri'"
   ]
  },
  {
   "cell_type": "code",
   "execution_count": 56,
   "id": "31c0d7d5",
   "metadata": {},
   "outputs": [
    {
     "data": {
      "text/plain": [
       "'DiwashKapilChettri'"
      ]
     },
     "execution_count": 56,
     "metadata": {},
     "output_type": "execute_result"
    }
   ],
   "source": [
    "myname"
   ]
  },
  {
   "cell_type": "code",
   "execution_count": 62,
   "id": "6df6adb6",
   "metadata": {},
   "outputs": [
    {
     "data": {
      "text/plain": [
       "'DiwashKapilChettri'"
      ]
     },
     "execution_count": 62,
     "metadata": {},
     "output_type": "execute_result"
    }
   ],
   "source": [
    "myname[::]"
   ]
  },
  {
   "cell_type": "code",
   "execution_count": 65,
   "id": "cf5c3cff",
   "metadata": {},
   "outputs": [
    {
     "data": {
      "text/plain": [
       "'DiwashKapilChettri'"
      ]
     },
     "execution_count": 65,
     "metadata": {},
     "output_type": "execute_result"
    }
   ],
   "source": [
    "myname[::]"
   ]
  },
  {
   "cell_type": "code",
   "execution_count": null,
   "id": "09bf6fc7",
   "metadata": {},
   "outputs": [],
   "source": []
  }
 ],
 "metadata": {
  "kernelspec": {
   "display_name": "Python 3 (ipykernel)",
   "language": "python",
   "name": "python3"
  },
  "language_info": {
   "codemirror_mode": {
    "name": "ipython",
    "version": 3
   },
   "file_extension": ".py",
   "mimetype": "text/x-python",
   "name": "python",
   "nbconvert_exporter": "python",
   "pygments_lexer": "ipython3",
   "version": "3.10.9"
  }
 },
 "nbformat": 4,
 "nbformat_minor": 5
}
