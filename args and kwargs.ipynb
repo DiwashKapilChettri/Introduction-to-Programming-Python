{
 "cells": [
  {
   "cell_type": "code",
   "execution_count": null,
   "id": "a5995e73",
   "metadata": {},
   "outputs": [],
   "source": [
    "#*args"
   ]
  },
  {
   "cell_type": "code",
   "execution_count": 24,
   "id": "777fc9f3",
   "metadata": {},
   "outputs": [],
   "source": [
    "def myfunc(a,b):\n",
    "    return sum((a,b)) * 0.05 #sum((a,b))"
   ]
  },
  {
   "cell_type": "code",
   "execution_count": 25,
   "id": "d099bf6c",
   "metadata": {},
   "outputs": [
    {
     "data": {
      "text/plain": [
       "5.5"
      ]
     },
     "execution_count": 25,
     "metadata": {},
     "output_type": "execute_result"
    }
   ],
   "source": [
    "myfunc(60,50)"
   ]
  },
  {
   "cell_type": "code",
   "execution_count": 26,
   "id": "9b5bca42",
   "metadata": {},
   "outputs": [],
   "source": [
    "def nmyfunc(a,b,c=0,d=0):\n",
    "    return sum((a,b,c,d))*0.05"
   ]
  },
  {
   "cell_type": "code",
   "execution_count": 33,
   "id": "7093d7a4",
   "metadata": {},
   "outputs": [
    {
     "data": {
      "text/plain": [
       "5.0"
      ]
     },
     "execution_count": 33,
     "metadata": {},
     "output_type": "execute_result"
    }
   ],
   "source": [
    "nmyfunc(10,20,30,40)"
   ]
  },
  {
   "cell_type": "code",
   "execution_count": 40,
   "id": "3643b23e",
   "metadata": {},
   "outputs": [],
   "source": [
    "def myfunc(*args):\n",
    "    return sum(args)*0.05"
   ]
  },
  {
   "cell_type": "code",
   "execution_count": 41,
   "id": "011f5f1c",
   "metadata": {},
   "outputs": [
    {
     "data": {
      "text/plain": [
       "11.0"
      ]
     },
     "execution_count": 41,
     "metadata": {},
     "output_type": "execute_result"
    }
   ],
   "source": [
    "myfunc(10,20,40,40,50,60)"
   ]
  },
  {
   "cell_type": "code",
   "execution_count": 43,
   "id": "203c16e7",
   "metadata": {},
   "outputs": [
    {
     "name": "stdout",
     "output_type": "stream",
     "text": [
      "10\n",
      "20\n",
      "30\n",
      "40\n",
      "50\n",
      "60\n",
      "70\n"
     ]
    }
   ],
   "source": [
    "def myfunc(*args):\n",
    "    for item in args:\n",
    "        print(item)\n",
    "myfunc(10,20,30,40,50,60,70)        "
   ]
  },
  {
   "cell_type": "code",
   "execution_count": 50,
   "id": "d8870ed2",
   "metadata": {},
   "outputs": [
    {
     "name": "stdout",
     "output_type": "stream",
     "text": [
      "{'fruit': 'Apple', 'food': 'Rice', 'veggie': 'lettuce'}\n",
      "My choice of fruit is Rice\n"
     ]
    }
   ],
   "source": [
    "def myfunc(**kwargs):\n",
    "    print(kwargs)\n",
    "    if 'fruit' in kwargs:\n",
    "        print('My choice of fruit is {}'.format(kwargs['food']))\n",
    "    else:\n",
    "        print('I did not find any fruit here')\n",
    "myfunc(fruit='Apple',food = 'Rice',veggie = 'lettuce')        "
   ]
  },
  {
   "cell_type": "code",
   "execution_count": 74,
   "id": "8959c609",
   "metadata": {},
   "outputs": [],
   "source": [
    "def mynewfunc(*args,**kwargs):\n",
    "    print('I would like {} {}'.format(args[0],kwargs['food']))"
   ]
  },
  {
   "cell_type": "code",
   "execution_count": 78,
   "id": "435adf81",
   "metadata": {},
   "outputs": [
    {
     "name": "stdout",
     "output_type": "stream",
     "text": [
      "I would like 10 Biryani\n"
     ]
    }
   ],
   "source": [
    "mynewfunc(10,20,30,40,food= 'Biryani',fruit='Mango',veggie='potato')"
   ]
  },
  {
   "cell_type": "code",
   "execution_count": null,
   "id": "fbc1a8a8",
   "metadata": {},
   "outputs": [],
   "source": []
  },
  {
   "cell_type": "code",
   "execution_count": null,
   "id": "ad668324",
   "metadata": {},
   "outputs": [],
   "source": [
    "#*args"
   ]
  },
  {
   "cell_type": "code",
   "execution_count": 24,
   "id": "7f4da21b",
   "metadata": {},
   "outputs": [],
   "source": [
    "def myfunc(a,b):\n",
    "    return sum((a,b)) * 0.05 #sum((a,b))"
   ]
  },
  {
   "cell_type": "code",
   "execution_count": 25,
   "id": "7880aa4e",
   "metadata": {},
   "outputs": [
    {
     "data": {
      "text/plain": [
       "5.5"
      ]
     },
     "execution_count": 25,
     "metadata": {},
     "output_type": "execute_result"
    }
   ],
   "source": [
    "myfunc(60,50)"
   ]
  },
  {
   "cell_type": "code",
   "execution_count": 26,
   "id": "df00d1ed",
   "metadata": {},
   "outputs": [],
   "source": [
    "def nmyfunc(a,b,c=0,d=0):\n",
    "    return sum((a,b,c,d))*0.05"
   ]
  },
  {
   "cell_type": "code",
   "execution_count": 33,
   "id": "724eab8b",
   "metadata": {},
   "outputs": [
    {
     "data": {
      "text/plain": [
       "5.0"
      ]
     },
     "execution_count": 33,
     "metadata": {},
     "output_type": "execute_result"
    }
   ],
   "source": [
    "nmyfunc(10,20,30,40)"
   ]
  },
  {
   "cell_type": "code",
   "execution_count": 40,
   "id": "88e9722a",
   "metadata": {},
   "outputs": [],
   "source": [
    "def myfunc(*args):\n",
    "    return sum(args)*0.05"
   ]
  },
  {
   "cell_type": "code",
   "execution_count": 41,
   "id": "8e7f139a",
   "metadata": {},
   "outputs": [
    {
     "data": {
      "text/plain": [
       "11.0"
      ]
     },
     "execution_count": 41,
     "metadata": {},
     "output_type": "execute_result"
    }
   ],
   "source": [
    "myfunc(10,20,40,40,50,60)"
   ]
  },
  {
   "cell_type": "code",
   "execution_count": 43,
   "id": "e6314714",
   "metadata": {},
   "outputs": [
    {
     "name": "stdout",
     "output_type": "stream",
     "text": [
      "10\n",
      "20\n",
      "30\n",
      "40\n",
      "50\n",
      "60\n",
      "70\n"
     ]
    }
   ],
   "source": [
    "def myfunc(*args):\n",
    "    for item in args:\n",
    "        print(item)\n",
    "myfunc(10,20,30,40,50,60,70)        "
   ]
  },
  {
   "cell_type": "code",
   "execution_count": 50,
   "id": "e720a262",
   "metadata": {},
   "outputs": [
    {
     "name": "stdout",
     "output_type": "stream",
     "text": [
      "{'fruit': 'Apple', 'food': 'Rice', 'veggie': 'lettuce'}\n",
      "My choice of fruit is Rice\n"
     ]
    }
   ],
   "source": [
    "def myfunc(**kwargs):\n",
    "    print(kwargs)\n",
    "    if 'fruit' in kwargs:\n",
    "        print('My choice of fruit is {}'.format(kwargs['food']))\n",
    "    else:\n",
    "        print('I did not find any fruit here')\n",
    "myfunc(fruit='Apple',food = 'Rice',veggie = 'lettuce')        "
   ]
  },
  {
   "cell_type": "code",
   "execution_count": 74,
   "id": "d87d983e",
   "metadata": {},
   "outputs": [],
   "source": [
    "def mynewfunc(*args,**kwargs):\n",
    "    print('I would like {} {}'.format(args[0],kwargs['food']))"
   ]
  },
  {
   "cell_type": "code",
   "execution_count": 78,
   "id": "09850e40",
   "metadata": {},
   "outputs": [
    {
     "name": "stdout",
     "output_type": "stream",
     "text": [
      "I would like 10 Biryani\n"
     ]
    }
   ],
   "source": [
    "mynewfunc(10,20,30,40,food= 'Biryani',fruit='Mango',veggie='potato')"
   ]
  },
  {
   "cell_type": "markdown",
   "id": "8527429c",
   "metadata": {},
   "source": [
    "Functions #1: *args\n",
    "Define a function called myfunc that takes in an arbitrary number of arguments, and returns the sum of \n",
    "those arguments.\n",
    "Remember, don't run the function, simply provide the definition.\n",
    "For example, a function that returns a count of the number of arbitrary arguments might look like:\n",
    "def myfunc(*args):\n",
    " return len(args)\n",
    "This is all you need to enter!\n",
    "To give an idea what the above function would look like when tested:\n",
    "myfunc(5,6,7,8)"
   ]
  },
  {
   "cell_type": "code",
   "execution_count": 1,
   "id": "3a302ac9",
   "metadata": {},
   "outputs": [
    {
     "data": {
      "text/plain": [
       "26"
      ]
     },
     "execution_count": 1,
     "metadata": {},
     "output_type": "execute_result"
    }
   ],
   "source": [
    "def myfunc(*args):\n",
    "    return sum(args)\n",
    "myfunc(5,6,7,8)"
   ]
  },
  {
   "cell_type": "markdown",
   "id": "13839f5d",
   "metadata": {},
   "source": [
    "Functions #2: pick evens\n",
    "Define a function called myfunc that takes in an arbitrary number of arguments, and returns a list containing only those arguments that are even.\n",
    "Remember, don't run the function, simply provide the definition.\n",
    "To give an idea what the function would look like when tested:\n",
    "myfunc(5,6,7,8)\n",
    "# Output: [6, 8]\n",
    "Added note: this exercise requires that the function return a list. Print statements will not work here.\n"
   ]
  },
  {
   "cell_type": "code",
   "execution_count": 3,
   "id": "f9ca455b",
   "metadata": {},
   "outputs": [
    {
     "data": {
      "text/plain": [
       "[2, 4, 6, 8]"
      ]
     },
     "execution_count": 3,
     "metadata": {},
     "output_type": "execute_result"
    }
   ],
   "source": [
    "def my_even(*args):\n",
    "    mylist = []\n",
    "    for number in args:\n",
    "        if number%2 == 0:\n",
    "            mylist.append(number)\n",
    "        else:\n",
    "            pass\n",
    "    return mylist\n",
    "my_even(1,2,3,4,5,6,7,8)"
   ]
  },
  {
   "cell_type": "markdown",
   "id": "ba310be4",
   "metadata": {},
   "source": [
    "Functions #10: skyline\n",
    "Define a function called myfunc that takes in a string, and returns a matching string where every even letter is uppercase, and every odd letter is lowercase. Assume that the incoming string only contains letters, and don't worry about numbers, spaces or punctuation. The output string can start with either an uppercase or lowercase letter, so long as letters alternate throughout the string.\n",
    "Remember, don't run the function, simply provide the definition.\n",
    "To give an idea what the function would look like when tested:\n",
    "myfunc('Anthropomorphism')\n",
    "# Output: 'aNtHrOpOmOrPhIsM'\n",
    "Added note: this exercise requires that the function return a string. Print statements will not work here.\n"
   ]
  },
  {
   "cell_type": "code",
   "execution_count": 7,
   "id": "33efa9ce",
   "metadata": {},
   "outputs": [],
   "source": [
    "def mystrfunc(inputstring):\n",
    "    outstring = ''\n",
    "    for item in range(len(inputstring)):\n",
    "        if item%2 == 0:\n",
    "            outstring += inputstring[item].lower()\n",
    "        else:\n",
    "            outstring += inputstring[item].upper()\n",
    "    return outstring        "
   ]
  },
  {
   "cell_type": "code",
   "execution_count": 8,
   "id": "196007df",
   "metadata": {},
   "outputs": [
    {
     "data": {
      "text/plain": [
       "'aNtHrOpOmOrPhIsM'"
      ]
     },
     "execution_count": 8,
     "metadata": {},
     "output_type": "execute_result"
    }
   ],
   "source": [
    "mystrfunc('Anthropomorphism')"
   ]
  },
  {
   "cell_type": "code",
   "execution_count": 10,
   "id": "c8e619ec",
   "metadata": {},
   "outputs": [
    {
     "data": {
      "text/plain": [
       "1"
      ]
     },
     "execution_count": 10,
     "metadata": {},
     "output_type": "execute_result"
    }
   ],
   "source": [
    "1%2"
   ]
  },
  {
   "cell_type": "code",
   "execution_count": null,
   "id": "f19146b7",
   "metadata": {},
   "outputs": [],
   "source": []
  }
 ],
 "metadata": {
  "kernelspec": {
   "display_name": "Python 3 (ipykernel)",
   "language": "python",
   "name": "python3"
  },
  "language_info": {
   "codemirror_mode": {
    "name": "ipython",
    "version": 3
   },
   "file_extension": ".py",
   "mimetype": "text/x-python",
   "name": "python",
   "nbconvert_exporter": "python",
   "pygments_lexer": "ipython3",
   "version": "3.10.9"
  }
 },
 "nbformat": 4,
 "nbformat_minor": 5
}
