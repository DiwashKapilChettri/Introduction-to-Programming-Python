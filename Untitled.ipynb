{
 "cells": [
  {
   "cell_type": "code",
   "execution_count": 1,
   "id": "2dc21c3d",
   "metadata": {},
   "outputs": [],
   "source": [
    "#practice exercises TLO2"
   ]
  },
  {
   "cell_type": "markdown",
   "id": "b1102289",
   "metadata": {},
   "source": [
    "1.\tCreate variables of different data types (integer, float, string, and boolean) and perform various arithmetic operations on them."
   ]
  },
  {
   "cell_type": "code",
   "execution_count": 5,
   "id": "df2f3cd4",
   "metadata": {},
   "outputs": [
    {
     "name": "stdout",
     "output_type": "stream",
     "text": [
      "-6.5 35.0 2.857142857142857\n"
     ]
    }
   ],
   "source": [
    "a = 10\n",
    "b = 3.5\n",
    "c = \"20\"\n",
    "result1 = b - a\n",
    "result2 = a * b\n",
    "result3 = a / b\n",
    "print(result1, result2, result3)"
   ]
  },
  {
   "cell_type": "code",
   "execution_count": 6,
   "id": "038e56e4",
   "metadata": {},
   "outputs": [],
   "source": [
    "#2.Given a string s = \"Programming is fun!\", extract the word \"is\" using slicing."
   ]
  },
  {
   "cell_type": "code",
   "execution_count": 18,
   "id": "0908abe1",
   "metadata": {},
   "outputs": [],
   "source": [
    "s = \"Programming is fun!\"\n",
    "extracted_word = s[12:14]"
   ]
  },
  {
   "cell_type": "code",
   "execution_count": 19,
   "id": "231a405a",
   "metadata": {},
   "outputs": [
    {
     "data": {
      "text/plain": [
       "'is'"
      ]
     },
     "execution_count": 19,
     "metadata": {},
     "output_type": "execute_result"
    }
   ],
   "source": [
    "extracted_word"
   ]
  },
  {
   "cell_type": "code",
   "execution_count": 20,
   "id": "c4d00924",
   "metadata": {},
   "outputs": [],
   "source": [
    "#3.Calculate the area of a rectangle with length l and width w using the multiplication operator."
   ]
  },
  {
   "cell_type": "code",
   "execution_count": 23,
   "id": "9a064a4c",
   "metadata": {},
   "outputs": [
    {
     "name": "stdout",
     "output_type": "stream",
     "text": [
      "Enter the length30\n",
      "Enter the width40\n",
      "The area of the rectangle is 1200.0\n"
     ]
    }
   ],
   "source": [
    "length = float(input('Enter the length'))\n",
    "width = float(input('Enter the width'))\n",
    "area = length * width\n",
    "print('The area of the rectangle is',area)"
   ]
  },
  {
   "cell_type": "code",
   "execution_count": 24,
   "id": "835f780c",
   "metadata": {},
   "outputs": [],
   "source": [
    "#4.Given two numbers x and y, calculate their sum, difference, product, and quotient using arithmetic operators.\n"
   ]
  },
  {
   "cell_type": "code",
   "execution_count": 25,
   "id": "08a9f26d",
   "metadata": {},
   "outputs": [
    {
     "name": "stdout",
     "output_type": "stream",
     "text": [
      "Sum: 15\n",
      "Difference: -5\n",
      "Product: 50\n",
      "Quotient: 0.5\n"
     ]
    }
   ],
   "source": [
    "x = 5\n",
    "y = 10\n",
    "sum_result = x + y\n",
    "diff_result = x - y\n",
    "prod_result = x * y\n",
    "quot_result = x / y\n",
    "print(\"Sum:\", sum_result)\n",
    "print(\"Difference:\", diff_result)\n",
    "print(\"Product:\", prod_result)\n",
    "print(\"Quotient:\", quot_result)\n"
   ]
  },
  {
   "cell_type": "code",
   "execution_count": 26,
   "id": "bacc3ef8",
   "metadata": {},
   "outputs": [],
   "source": [
    "#Determine the remainder of the division of two numbers a and b using the modulo operator."
   ]
  },
  {
   "cell_type": "code",
   "execution_count": 30,
   "id": "307a4412",
   "metadata": {},
   "outputs": [
    {
     "name": "stdout",
     "output_type": "stream",
     "text": [
      "The remainder of the division is: 3\n"
     ]
    }
   ],
   "source": [
    "a = 15\n",
    "b = 4\n",
    "remainder = a % b\n",
    "print(\"The remainder of the division is:\", remainder)\n"
   ]
  },
  {
   "cell_type": "code",
   "execution_count": null,
   "id": "56ce3db9",
   "metadata": {},
   "outputs": [],
   "source": []
  }
 ],
 "metadata": {
  "kernelspec": {
   "display_name": "Python 3 (ipykernel)",
   "language": "python",
   "name": "python3"
  },
  "language_info": {
   "codemirror_mode": {
    "name": "ipython",
    "version": 3
   },
   "file_extension": ".py",
   "mimetype": "text/x-python",
   "name": "python",
   "nbconvert_exporter": "python",
   "pygments_lexer": "ipython3",
   "version": "3.10.9"
  }
 },
 "nbformat": 4,
 "nbformat_minor": 5
}
