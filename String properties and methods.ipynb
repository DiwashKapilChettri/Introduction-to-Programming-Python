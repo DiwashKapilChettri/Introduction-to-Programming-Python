{
 "cells": [
  {
   "cell_type": "code",
   "execution_count": 1,
   "id": "d919a5bf",
   "metadata": {},
   "outputs": [],
   "source": [
    "name = 'Anthony'"
   ]
  },
  {
   "cell_type": "code",
   "execution_count": 2,
   "id": "7cc44869",
   "metadata": {},
   "outputs": [
    {
     "data": {
      "text/plain": [
       "'Anthony'"
      ]
     },
     "execution_count": 2,
     "metadata": {},
     "output_type": "execute_result"
    }
   ],
   "source": [
    "name"
   ]
  },
  {
   "cell_type": "code",
   "execution_count": 3,
   "id": "0ba1cde9",
   "metadata": {},
   "outputs": [
    {
     "data": {
      "text/plain": [
       "str"
      ]
     },
     "execution_count": 3,
     "metadata": {},
     "output_type": "execute_result"
    }
   ],
   "source": [
    "type(name)"
   ]
  },
  {
   "cell_type": "code",
   "execution_count": 4,
   "id": "8ed61b4e",
   "metadata": {},
   "outputs": [
    {
     "ename": "TypeError",
     "evalue": "'str' object does not support item assignment",
     "output_type": "error",
     "traceback": [
      "\u001b[1;31m---------------------------------------------------------------------------\u001b[0m",
      "\u001b[1;31mTypeError\u001b[0m                                 Traceback (most recent call last)",
      "Cell \u001b[1;32mIn[4], line 1\u001b[0m\n\u001b[1;32m----> 1\u001b[0m name[\u001b[38;5;241m0\u001b[39m] \u001b[38;5;241m=\u001b[39m \u001b[38;5;124m'\u001b[39m\u001b[38;5;124mP\u001b[39m\u001b[38;5;124m'\u001b[39m\n",
      "\u001b[1;31mTypeError\u001b[0m: 'str' object does not support item assignment"
     ]
    }
   ],
   "source": [
    "name[0] = 'P'"
   ]
  },
  {
   "cell_type": "code",
   "execution_count": 7,
   "id": "6d1c954a",
   "metadata": {},
   "outputs": [],
   "source": [
    "last_letters  = name[1:]"
   ]
  },
  {
   "cell_type": "code",
   "execution_count": 8,
   "id": "4715f80c",
   "metadata": {},
   "outputs": [
    {
     "data": {
      "text/plain": [
       "'nthony'"
      ]
     },
     "execution_count": 8,
     "metadata": {},
     "output_type": "execute_result"
    }
   ],
   "source": [
    "last_letters"
   ]
  },
  {
   "cell_type": "code",
   "execution_count": 9,
   "id": "1b1d8640",
   "metadata": {},
   "outputs": [
    {
     "data": {
      "text/plain": [
       "'Pnthony'"
      ]
     },
     "execution_count": 9,
     "metadata": {},
     "output_type": "execute_result"
    }
   ],
   "source": [
    "'P' + last_letters"
   ]
  },
  {
   "cell_type": "code",
   "execution_count": 10,
   "id": "a26ae35e",
   "metadata": {},
   "outputs": [],
   "source": [
    "x = 'Hello World'\n"
   ]
  },
  {
   "cell_type": "code",
   "execution_count": 11,
   "id": "0172d7dd",
   "metadata": {},
   "outputs": [
    {
     "data": {
      "text/plain": [
       "'Hello World'"
      ]
     },
     "execution_count": 11,
     "metadata": {},
     "output_type": "execute_result"
    }
   ],
   "source": [
    "x"
   ]
  },
  {
   "cell_type": "code",
   "execution_count": 15,
   "id": "40013eb8",
   "metadata": {},
   "outputs": [],
   "source": [
    "x = x + ' it is beautiful outside!'"
   ]
  },
  {
   "cell_type": "code",
   "execution_count": 16,
   "id": "b3af8c78",
   "metadata": {},
   "outputs": [
    {
     "data": {
      "text/plain": [
       "'Hello World it is beautiful outside!'"
      ]
     },
     "execution_count": 16,
     "metadata": {},
     "output_type": "execute_result"
    }
   ],
   "source": [
    "x"
   ]
  },
  {
   "cell_type": "code",
   "execution_count": 17,
   "id": "4cce15e3",
   "metadata": {},
   "outputs": [],
   "source": [
    "letter = 'z'"
   ]
  },
  {
   "cell_type": "code",
   "execution_count": 18,
   "id": "810b4e47",
   "metadata": {},
   "outputs": [
    {
     "data": {
      "text/plain": [
       "'z'"
      ]
     },
     "execution_count": 18,
     "metadata": {},
     "output_type": "execute_result"
    }
   ],
   "source": [
    "letter"
   ]
  },
  {
   "cell_type": "code",
   "execution_count": 19,
   "id": "c6d87a42",
   "metadata": {},
   "outputs": [
    {
     "data": {
      "text/plain": [
       "'zzzzzzzzzz'"
      ]
     },
     "execution_count": 19,
     "metadata": {},
     "output_type": "execute_result"
    }
   ],
   "source": [
    "letter * 10"
   ]
  },
  {
   "cell_type": "code",
   "execution_count": 21,
   "id": "f549630b",
   "metadata": {},
   "outputs": [],
   "source": [
    "a = '40' + '50'"
   ]
  },
  {
   "cell_type": "code",
   "execution_count": 22,
   "id": "22364417",
   "metadata": {},
   "outputs": [
    {
     "data": {
      "text/plain": [
       "str"
      ]
     },
     "execution_count": 22,
     "metadata": {},
     "output_type": "execute_result"
    }
   ],
   "source": [
    "type(a)"
   ]
  },
  {
   "cell_type": "code",
   "execution_count": 24,
   "id": "2fa7354c",
   "metadata": {},
   "outputs": [],
   "source": [
    "x = 'Hello World'"
   ]
  },
  {
   "cell_type": "markdown",
   "id": "149f4bd6",
   "metadata": {},
   "source": [
    "Objects in Python are essentially bulit in methods these methods themselves are essentially functions inside the objects"
   ]
  },
  {
   "cell_type": "code",
   "execution_count": 25,
   "id": "fc0b948f",
   "metadata": {},
   "outputs": [
    {
     "data": {
      "text/plain": [
       "'HELLO WORLD'"
      ]
     },
     "execution_count": 25,
     "metadata": {},
     "output_type": "execute_result"
    }
   ],
   "source": [
    "x.upper()"
   ]
  },
  {
   "cell_type": "code",
   "execution_count": 26,
   "id": "9f59b0fe",
   "metadata": {},
   "outputs": [],
   "source": [
    "x = x.upper()"
   ]
  },
  {
   "cell_type": "code",
   "execution_count": 27,
   "id": "13730d9f",
   "metadata": {},
   "outputs": [
    {
     "data": {
      "text/plain": [
       "'HELLO WORLD'"
      ]
     },
     "execution_count": 27,
     "metadata": {},
     "output_type": "execute_result"
    }
   ],
   "source": [
    "x"
   ]
  },
  {
   "cell_type": "code",
   "execution_count": 28,
   "id": "1d7a127e",
   "metadata": {},
   "outputs": [
    {
     "data": {
      "text/plain": [
       "str"
      ]
     },
     "execution_count": 28,
     "metadata": {},
     "output_type": "execute_result"
    }
   ],
   "source": [
    "type(x)"
   ]
  },
  {
   "cell_type": "code",
   "execution_count": 29,
   "id": "02778ec2",
   "metadata": {},
   "outputs": [
    {
     "data": {
      "text/plain": [
       "'hello world'"
      ]
     },
     "execution_count": 29,
     "metadata": {},
     "output_type": "execute_result"
    }
   ],
   "source": [
    "x.lower()\n"
   ]
  },
  {
   "cell_type": "code",
   "execution_count": 30,
   "id": "ca07d65c",
   "metadata": {},
   "outputs": [
    {
     "data": {
      "text/plain": [
       "['HELLO', 'WORLD']"
      ]
     },
     "execution_count": 30,
     "metadata": {},
     "output_type": "execute_result"
    }
   ],
   "source": [
    "x.split()"
   ]
  },
  {
   "cell_type": "code",
   "execution_count": 31,
   "id": "e4c0305e",
   "metadata": {},
   "outputs": [
    {
     "data": {
      "text/plain": [
       "'HELLO WORLD'"
      ]
     },
     "execution_count": 31,
     "metadata": {},
     "output_type": "execute_result"
    }
   ],
   "source": [
    "x"
   ]
  },
  {
   "cell_type": "code",
   "execution_count": 32,
   "id": "1507e488",
   "metadata": {},
   "outputs": [
    {
     "data": {
      "text/plain": [
       "['HELLO', 'WORLD']"
      ]
     },
     "execution_count": 32,
     "metadata": {},
     "output_type": "execute_result"
    }
   ],
   "source": [
    "x.split()"
   ]
  },
  {
   "cell_type": "code",
   "execution_count": 34,
   "id": "efd0f33d",
   "metadata": {},
   "outputs": [
    {
     "data": {
      "text/plain": [
       "['HELL', ' W', 'RLD']"
      ]
     },
     "execution_count": 34,
     "metadata": {},
     "output_type": "execute_result"
    }
   ],
   "source": [
    "x.split('O')"
   ]
  },
  {
   "cell_type": "code",
   "execution_count": 38,
   "id": "cf0fc3cd",
   "metadata": {},
   "outputs": [
    {
     "data": {
      "text/plain": [
       "'\\nHEY THIS IS A MULTILINE COMMENT\\nIAM A MULTINE\\n'"
      ]
     },
     "execution_count": 38,
     "metadata": {},
     "output_type": "execute_result"
    }
   ],
   "source": [
    "'''\n",
    "HEY THIS IS A MULTILINE COMMENT\n",
    "IAM A MULTINE\n",
    "'''\n",
    "\n"
   ]
  },
  {
   "cell_type": "code",
   "execution_count": 41,
   "id": "43b74904",
   "metadata": {},
   "outputs": [
    {
     "name": "stdout",
     "output_type": "stream",
     "text": [
      "Hello my name is Diwash\n"
     ]
    }
   ],
   "source": [
    "my_name = 'Diwash'\n",
    "print('Hello my name is '+ my_name)"
   ]
  },
  {
   "cell_type": "code",
   "execution_count": 42,
   "id": "ea69af33",
   "metadata": {},
   "outputs": [],
   "source": [
    "#.format method"
   ]
  },
  {
   "cell_type": "code",
   "execution_count": 43,
   "id": "fd0938a6",
   "metadata": {},
   "outputs": [],
   "source": [
    "#'String here {} {} {} '.format(something1, something2, something3)"
   ]
  },
  {
   "cell_type": "code",
   "execution_count": 44,
   "id": "f0c8222e",
   "metadata": {},
   "outputs": [
    {
     "name": "stdout",
     "output_type": "stream",
     "text": [
      "I am a student of Medhavi Skills University\n"
     ]
    }
   ],
   "source": [
    "print('I am a student of {}'.format('Medhavi Skills University'))"
   ]
  },
  {
   "cell_type": "code",
   "execution_count": 50,
   "id": "247baf12",
   "metadata": {},
   "outputs": [
    {
     "name": "stdout",
     "output_type": "stream",
     "text": [
      "The quick brown fox\n"
     ]
    }
   ],
   "source": [
    "print('The {q} {b} {f}'.format(b='brown',f='fox',q='quick'))"
   ]
  },
  {
   "cell_type": "code",
   "execution_count": 51,
   "id": "09f1882e",
   "metadata": {},
   "outputs": [
    {
     "name": "stdout",
     "output_type": "stream",
     "text": [
      "This is a string INSERTED\n"
     ]
    }
   ],
   "source": [
    "print('This is a string {}'.format('INSERTED'))"
   ]
  },
  {
   "cell_type": "code",
   "execution_count": 55,
   "id": "72c94113",
   "metadata": {},
   "outputs": [],
   "source": [
    "#Float Formatting {value:width.precision f}"
   ]
  },
  {
   "cell_type": "code",
   "execution_count": 56,
   "id": "ce7be3fa",
   "metadata": {},
   "outputs": [],
   "source": [
    "result = 100/77 "
   ]
  },
  {
   "cell_type": "code",
   "execution_count": 57,
   "id": "ab4e79ba",
   "metadata": {},
   "outputs": [
    {
     "data": {
      "text/plain": [
       "1.2987012987012987"
      ]
     },
     "execution_count": 57,
     "metadata": {},
     "output_type": "execute_result"
    }
   ],
   "source": [
    "result"
   ]
  },
  {
   "cell_type": "code",
   "execution_count": 63,
   "id": "44db0abd",
   "metadata": {},
   "outputs": [
    {
     "name": "stdout",
     "output_type": "stream",
     "text": [
      "The result is 1.29870\n"
     ]
    }
   ],
   "source": [
    "print('The result is {r:1.5f}'.format(r=result))"
   ]
  },
  {
   "cell_type": "code",
   "execution_count": 66,
   "id": "3b99fed2",
   "metadata": {},
   "outputs": [
    {
     "name": "stdout",
     "output_type": "stream",
     "text": [
      "The result is 64935.065\n"
     ]
    }
   ],
   "source": [
    "a = 1000\n",
    "b= 5000\n",
    "c = 77\n",
    "res= (a*b)/c\n",
    "print('The result is {r:1.3f}'.format(r=res))"
   ]
  },
  {
   "cell_type": "code",
   "execution_count": 67,
   "id": "46d044d9",
   "metadata": {},
   "outputs": [],
   "source": [
    "#Formatted string literals"
   ]
  },
  {
   "cell_type": "code",
   "execution_count": null,
   "id": "0c0a73a8",
   "metadata": {},
   "outputs": [],
   "source": [
    "name = 'Anthony'"
   ]
  },
  {
   "cell_type": "code",
   "execution_count": 70,
   "id": "d675abb0",
   "metadata": {},
   "outputs": [
    {
     "name": "stdout",
     "output_type": "stream",
     "text": [
      "My name is Anthony\n"
     ]
    }
   ],
   "source": [
    "print(f'My name is {name}')"
   ]
  },
  {
   "cell_type": "code",
   "execution_count": 71,
   "id": "f9abb41d",
   "metadata": {},
   "outputs": [
    {
     "name": "stdout",
     "output_type": "stream",
     "text": [
      "His name is Anthony\n"
     ]
    }
   ],
   "source": [
    "print('His name is {}'.format(name))"
   ]
  },
  {
   "cell_type": "code",
   "execution_count": 72,
   "id": "cb75788e",
   "metadata": {},
   "outputs": [
    {
     "name": "stdout",
     "output_type": "stream",
     "text": [
      "Anthony is 40 years old\n"
     ]
    }
   ],
   "source": [
    "print(f'{name} is 40 years old')"
   ]
  },
  {
   "cell_type": "code",
   "execution_count": 73,
   "id": "8731f515",
   "metadata": {},
   "outputs": [
    {
     "name": "stdout",
     "output_type": "stream",
     "text": [
      "Aman is 30 but still acts as a kid\n"
     ]
    }
   ],
   "source": [
    "name = 'Aman'\n",
    "age = 30\n",
    "print(f'{name} is {age} but still acts as a kid')"
   ]
  },
  {
   "cell_type": "code",
   "execution_count": null,
   "id": "64abb76f",
   "metadata": {},
   "outputs": [],
   "source": []
  }
 ],
 "metadata": {
  "kernelspec": {
   "display_name": "Python 3 (ipykernel)",
   "language": "python",
   "name": "python3"
  },
  "language_info": {
   "codemirror_mode": {
    "name": "ipython",
    "version": 3
   },
   "file_extension": ".py",
   "mimetype": "text/x-python",
   "name": "python",
   "nbconvert_exporter": "python",
   "pygments_lexer": "ipython3",
   "version": "3.10.9"
  }
 },
 "nbformat": 4,
 "nbformat_minor": 5
}
