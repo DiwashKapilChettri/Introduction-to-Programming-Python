{
 "cells": [
  {
   "cell_type": "code",
   "execution_count": 1,
   "id": "5742a1ea",
   "metadata": {},
   "outputs": [],
   "source": [
    "class Car():\n",
    "    def __init__(self,color,model,make):\n",
    "        self.color = color \n",
    "        self.model = model\n",
    "        self.make = make\n",
    "    def accelerate(self):\n",
    "        print('The car is accelerating')\n",
    "    def brake(self):\n",
    "        print('The car is braking')"
   ]
  },
  {
   "cell_type": "code",
   "execution_count": 2,
   "id": "ebf358b9",
   "metadata": {},
   "outputs": [],
   "source": [
    "my_car = Car('Red','Ferrari','488GTB')"
   ]
  },
  {
   "cell_type": "code",
   "execution_count": 3,
   "id": "3fbded10",
   "metadata": {},
   "outputs": [
    {
     "name": "stdout",
     "output_type": "stream",
     "text": [
      "Red\n"
     ]
    }
   ],
   "source": [
    "print(my_car.color)"
   ]
  },
  {
   "cell_type": "code",
   "execution_count": 4,
   "id": "78facd94",
   "metadata": {},
   "outputs": [
    {
     "data": {
      "text/plain": [
       "'488GTB'"
      ]
     },
     "execution_count": 4,
     "metadata": {},
     "output_type": "execute_result"
    }
   ],
   "source": [
    "my_car.make"
   ]
  },
  {
   "cell_type": "code",
   "execution_count": 5,
   "id": "d1657629",
   "metadata": {},
   "outputs": [
    {
     "name": "stdout",
     "output_type": "stream",
     "text": [
      "The car is accelerating\n"
     ]
    }
   ],
   "source": [
    "my_car.accelerate()"
   ]
  },
  {
   "cell_type": "code",
   "execution_count": 6,
   "id": "b49f1fc7",
   "metadata": {},
   "outputs": [
    {
     "name": "stdout",
     "output_type": "stream",
     "text": [
      "The car is braking\n"
     ]
    }
   ],
   "source": [
    "my_car.brake()"
   ]
  },
  {
   "cell_type": "code",
   "execution_count": 7,
   "id": "9eeac24a",
   "metadata": {},
   "outputs": [],
   "source": [
    "mylist = [1,2,3]"
   ]
  },
  {
   "cell_type": "code",
   "execution_count": 8,
   "id": "eb8a7184",
   "metadata": {},
   "outputs": [
    {
     "data": {
      "text/plain": [
       "[1, 2, 3]"
      ]
     },
     "execution_count": 8,
     "metadata": {},
     "output_type": "execute_result"
    }
   ],
   "source": [
    "mylist"
   ]
  },
  {
   "cell_type": "code",
   "execution_count": 9,
   "id": "59415c8d",
   "metadata": {},
   "outputs": [],
   "source": [
    "myset = [1,2,3,4,4,5,5]"
   ]
  },
  {
   "cell_type": "code",
   "execution_count": 10,
   "id": "757de57d",
   "metadata": {},
   "outputs": [],
   "source": [
    "myset = set()"
   ]
  },
  {
   "cell_type": "code",
   "execution_count": null,
   "id": "f0406d88",
   "metadata": {},
   "outputs": [],
   "source": []
  },
  {
   "cell_type": "code",
   "execution_count": 13,
   "id": "124d783b",
   "metadata": {},
   "outputs": [],
   "source": [
    "class Sample():\n",
    "    pass"
   ]
  },
  {
   "cell_type": "code",
   "execution_count": 14,
   "id": "a6d25ef2",
   "metadata": {},
   "outputs": [],
   "source": [
    "my_sample = Sample()"
   ]
  },
  {
   "cell_type": "code",
   "execution_count": 15,
   "id": "ab321775",
   "metadata": {},
   "outputs": [
    {
     "data": {
      "text/plain": [
       "__main__.Sample"
      ]
     },
     "execution_count": 15,
     "metadata": {},
     "output_type": "execute_result"
    }
   ],
   "source": [
    "type(my_sample)"
   ]
  },
  {
   "cell_type": "code",
   "execution_count": 16,
   "id": "299580ff",
   "metadata": {},
   "outputs": [],
   "source": [
    "class Dog():\n",
    "    def __init__(self,breed):\n",
    "        self.breed = breed\n",
    "        \n",
    "        "
   ]
  },
  {
   "cell_type": "code",
   "execution_count": 17,
   "id": "ae99ae30",
   "metadata": {},
   "outputs": [],
   "source": [
    "my_dog = Dog('Lab')"
   ]
  },
  {
   "cell_type": "code",
   "execution_count": 18,
   "id": "b6e2bab3",
   "metadata": {},
   "outputs": [
    {
     "data": {
      "text/plain": [
       "__main__.Dog"
      ]
     },
     "execution_count": 18,
     "metadata": {},
     "output_type": "execute_result"
    }
   ],
   "source": [
    "type(my_dog)"
   ]
  },
  {
   "cell_type": "code",
   "execution_count": 19,
   "id": "7ca4090b",
   "metadata": {},
   "outputs": [
    {
     "data": {
      "text/plain": [
       "'Lab'"
      ]
     },
     "execution_count": 19,
     "metadata": {},
     "output_type": "execute_result"
    }
   ],
   "source": [
    "my_dog.breed"
   ]
  },
  {
   "cell_type": "code",
   "execution_count": 20,
   "id": "acf1d473",
   "metadata": {},
   "outputs": [],
   "source": [
    "class Dog():\n",
    "    #Attributes\n",
    "    #we take in the argument\n",
    "    #assign it to self.attribute\n",
    "    def __init__(self,mybreed):\n",
    "        self.breed = mybreed\n",
    "        \n",
    "        "
   ]
  },
  {
   "cell_type": "code",
   "execution_count": 21,
   "id": "c61124bd",
   "metadata": {},
   "outputs": [],
   "source": [
    "my_dog = Dog('Huskie')"
   ]
  },
  {
   "cell_type": "code",
   "execution_count": 22,
   "id": "54b1100c",
   "metadata": {},
   "outputs": [
    {
     "data": {
      "text/plain": [
       "'Huskie'"
      ]
     },
     "execution_count": 22,
     "metadata": {},
     "output_type": "execute_result"
    }
   ],
   "source": [
    "my_dog.breed"
   ]
  },
  {
   "cell_type": "code",
   "execution_count": 23,
   "id": "4a6543a8",
   "metadata": {},
   "outputs": [],
   "source": [
    "class Dog():\n",
    "    #Attributes\n",
    "    #we take in the argument\n",
    "    #assign it to self.attribute\n",
    "    def __init__(self,mybreed):\n",
    "        self.my_attribute = mybreed\n",
    "        \n",
    "        "
   ]
  },
  {
   "cell_type": "code",
   "execution_count": 24,
   "id": "b06036a4",
   "metadata": {},
   "outputs": [],
   "source": [
    "my_dog = Dog('LAB')"
   ]
  },
  {
   "cell_type": "code",
   "execution_count": 25,
   "id": "9ff0487d",
   "metadata": {},
   "outputs": [
    {
     "data": {
      "text/plain": [
       "'LAB'"
      ]
     },
     "execution_count": 25,
     "metadata": {},
     "output_type": "execute_result"
    }
   ],
   "source": [
    "my_dog.my_attribute"
   ]
  },
  {
   "cell_type": "code",
   "execution_count": 26,
   "id": "58280ec7",
   "metadata": {},
   "outputs": [],
   "source": [
    "class Dog():\n",
    "    def __init__(self,breed,name,spots):\n",
    "        self.breed = breed\n",
    "        self.name = name\n",
    "        #expecting a boolean\n",
    "        self.spots = spots\n",
    "        \n",
    "        "
   ]
  },
  {
   "cell_type": "code",
   "execution_count": 27,
   "id": "3d2d1a9b",
   "metadata": {},
   "outputs": [],
   "source": [
    "my_dog = Dog(breed= 'Huskie',name = 'Frankie',spots = False)"
   ]
  },
  {
   "cell_type": "code",
   "execution_count": 28,
   "id": "f53883bd",
   "metadata": {},
   "outputs": [
    {
     "data": {
      "text/plain": [
       "__main__.Dog"
      ]
     },
     "execution_count": 28,
     "metadata": {},
     "output_type": "execute_result"
    }
   ],
   "source": [
    "type(my_dog)"
   ]
  },
  {
   "cell_type": "code",
   "execution_count": 29,
   "id": "b939312a",
   "metadata": {},
   "outputs": [
    {
     "data": {
      "text/plain": [
       "'Huskie'"
      ]
     },
     "execution_count": 29,
     "metadata": {},
     "output_type": "execute_result"
    }
   ],
   "source": [
    "my_dog.breed"
   ]
  },
  {
   "cell_type": "code",
   "execution_count": 30,
   "id": "4bc445af",
   "metadata": {},
   "outputs": [
    {
     "data": {
      "text/plain": [
       "'Frankie'"
      ]
     },
     "execution_count": 30,
     "metadata": {},
     "output_type": "execute_result"
    }
   ],
   "source": [
    "my_dog.name"
   ]
  },
  {
   "cell_type": "code",
   "execution_count": 31,
   "id": "1d74d1f0",
   "metadata": {},
   "outputs": [
    {
     "data": {
      "text/plain": [
       "False"
      ]
     },
     "execution_count": 31,
     "metadata": {},
     "output_type": "execute_result"
    }
   ],
   "source": [
    "my_dog.spots"
   ]
  },
  {
   "cell_type": "code",
   "execution_count": 32,
   "id": "9f4837ed",
   "metadata": {},
   "outputs": [],
   "source": [
    "my_dog = Dog(breed= 'Huskie',name = 'Frankie',spots = 'NO SPOTS')"
   ]
  },
  {
   "cell_type": "code",
   "execution_count": 33,
   "id": "05fa9994",
   "metadata": {},
   "outputs": [
    {
     "data": {
      "text/plain": [
       "'NO SPOTS'"
      ]
     },
     "execution_count": 33,
     "metadata": {},
     "output_type": "execute_result"
    }
   ],
   "source": [
    "my_dog.spots"
   ]
  },
  {
   "cell_type": "code",
   "execution_count": 34,
   "id": "cbcdbdef",
   "metadata": {},
   "outputs": [],
   "source": [
    "class Dog():\n",
    "    #class object attributes\n",
    "    #same for any instance of a class\n",
    "    species = 'mammal'\n",
    "    def __init__(self,breed,name,spots):\n",
    "        #Atrributes\n",
    "        #we take in the argument\n",
    "        #assign it to the self.attribute_name\n",
    "        self.breed = breed\n",
    "        self.name = name\n",
    "        #expecting booleans true/false\n",
    "        self.spots = spots\n",
    "        \n",
    "        "
   ]
  },
  {
   "cell_type": "code",
   "execution_count": 35,
   "id": "e6708335",
   "metadata": {},
   "outputs": [],
   "source": [
    "my_dog = Dog(breed = 'Lab',name = 'Sam', spots = False)"
   ]
  },
  {
   "cell_type": "code",
   "execution_count": 36,
   "id": "b873ea70",
   "metadata": {},
   "outputs": [
    {
     "data": {
      "text/plain": [
       "__main__.Dog"
      ]
     },
     "execution_count": 36,
     "metadata": {},
     "output_type": "execute_result"
    }
   ],
   "source": [
    "type(my_dog)"
   ]
  },
  {
   "cell_type": "code",
   "execution_count": 37,
   "id": "6518cedb",
   "metadata": {},
   "outputs": [
    {
     "data": {
      "text/plain": [
       "'Lab'"
      ]
     },
     "execution_count": 37,
     "metadata": {},
     "output_type": "execute_result"
    }
   ],
   "source": [
    "my_dog.breed"
   ]
  },
  {
   "cell_type": "code",
   "execution_count": 38,
   "id": "0464d3a8",
   "metadata": {},
   "outputs": [
    {
     "data": {
      "text/plain": [
       "'Sam'"
      ]
     },
     "execution_count": 38,
     "metadata": {},
     "output_type": "execute_result"
    }
   ],
   "source": [
    "my_dog.name"
   ]
  },
  {
   "cell_type": "code",
   "execution_count": 39,
   "id": "2a44e26d",
   "metadata": {},
   "outputs": [
    {
     "data": {
      "text/plain": [
       "'mammal'"
      ]
     },
     "execution_count": 39,
     "metadata": {},
     "output_type": "execute_result"
    }
   ],
   "source": [
    "my_dog.species"
   ]
  },
  {
   "cell_type": "code",
   "execution_count": 40,
   "id": "7c9ed491",
   "metadata": {},
   "outputs": [
    {
     "data": {
      "text/plain": [
       "False"
      ]
     },
     "execution_count": 40,
     "metadata": {},
     "output_type": "execute_result"
    }
   ],
   "source": [
    "my_dog.spots"
   ]
  },
  {
   "cell_type": "code",
   "execution_count": 41,
   "id": "2bc7816a",
   "metadata": {},
   "outputs": [],
   "source": [
    "class Dog():\n",
    "    #class object attributes\n",
    "    #same for any instance of a class\n",
    "    species = 'mammal'\n",
    "    def __init__(self,breed,name,spots):\n",
    "        #Atrributes\n",
    "        #we take in the argument\n",
    "        #assign it to the self.attribute_name\n",
    "        self.breed = breed\n",
    "        self.name = name\n",
    "        #expecting booleans true/false\n",
    "        self.spots = spots\n",
    "        #Operations --> Actions\n",
    "    def bark(self,number):\n",
    "        print('Woof! my name is {} and number is {}'.format(self.name,number))"
   ]
  },
  {
   "cell_type": "code",
   "execution_count": 42,
   "id": "b1df745f",
   "metadata": {},
   "outputs": [],
   "source": [
    "my_dog = Dog('Lab','Huskie',False)"
   ]
  },
  {
   "cell_type": "code",
   "execution_count": 43,
   "id": "eb0635c0",
   "metadata": {},
   "outputs": [
    {
     "data": {
      "text/plain": [
       "__main__.Dog"
      ]
     },
     "execution_count": 43,
     "metadata": {},
     "output_type": "execute_result"
    }
   ],
   "source": [
    "type(my_dog)"
   ]
  },
  {
   "cell_type": "code",
   "execution_count": 44,
   "id": "c715e065",
   "metadata": {},
   "outputs": [
    {
     "name": "stdout",
     "output_type": "stream",
     "text": [
      "Woof! my name is Huskie and number is 10\n"
     ]
    }
   ],
   "source": [
    "my_dog.bark(10)"
   ]
  },
  {
   "cell_type": "code",
   "execution_count": 45,
   "id": "d5eff388",
   "metadata": {},
   "outputs": [],
   "source": [
    "class Circle():\n",
    "    #class object attribute\n",
    "    pi = 3.14\n",
    "    def __init__(self,radius=1):\n",
    "        self.radius = radius\n",
    "    #method   \n",
    "    def get_circumference(self):\n",
    "        return 2*self.pi*self.radius"
   ]
  },
  {
   "cell_type": "code",
   "execution_count": 46,
   "id": "32a90573",
   "metadata": {},
   "outputs": [],
   "source": [
    "my_circle = Circle()\n"
   ]
  },
  {
   "cell_type": "code",
   "execution_count": 47,
   "id": "2b7973cb",
   "metadata": {},
   "outputs": [
    {
     "data": {
      "text/plain": [
       "3.14"
      ]
     },
     "execution_count": 47,
     "metadata": {},
     "output_type": "execute_result"
    }
   ],
   "source": [
    "my_circle.pi"
   ]
  },
  {
   "cell_type": "code",
   "execution_count": 48,
   "id": "5b43f19a",
   "metadata": {},
   "outputs": [
    {
     "data": {
      "text/plain": [
       "1"
      ]
     },
     "execution_count": 48,
     "metadata": {},
     "output_type": "execute_result"
    }
   ],
   "source": [
    "my_circle.radius"
   ]
  },
  {
   "cell_type": "code",
   "execution_count": 49,
   "id": "3800f740",
   "metadata": {},
   "outputs": [
    {
     "data": {
      "text/plain": [
       "6.28"
      ]
     },
     "execution_count": 49,
     "metadata": {},
     "output_type": "execute_result"
    }
   ],
   "source": [
    "my_circle.get_circumference()"
   ]
  },
  {
   "cell_type": "code",
   "execution_count": 50,
   "id": "104f2203",
   "metadata": {},
   "outputs": [],
   "source": [
    "class Circle():\n",
    "    #class object attribute\n",
    "    pi = 3.14\n",
    "    def __init__(self,radius=1):\n",
    "        self.radius = radius\n",
    "        self.area = Circle.pi*radius*radius\n",
    "    #method   \n",
    "    def get_circumference(self):\n",
    "        return 2*Circle.pi*self.radius"
   ]
  },
  {
   "cell_type": "code",
   "execution_count": 51,
   "id": "2101aec2",
   "metadata": {},
   "outputs": [],
   "source": [
    "my_circle = Circle(30)"
   ]
  },
  {
   "cell_type": "code",
   "execution_count": 52,
   "id": "3a6ddbad",
   "metadata": {},
   "outputs": [
    {
     "data": {
      "text/plain": [
       "2826.0"
      ]
     },
     "execution_count": 52,
     "metadata": {},
     "output_type": "execute_result"
    }
   ],
   "source": [
    "my_circle.area"
   ]
  },
  {
   "cell_type": "code",
   "execution_count": 53,
   "id": "0b341ca1",
   "metadata": {},
   "outputs": [
    {
     "data": {
      "text/plain": [
       "188.4"
      ]
     },
     "execution_count": 53,
     "metadata": {},
     "output_type": "execute_result"
    }
   ],
   "source": [
    "my_circle.get_circumference()"
   ]
  },
  {
   "cell_type": "code",
   "execution_count": 54,
   "id": "d6b6f9ad",
   "metadata": {},
   "outputs": [],
   "source": [
    "class Animal():\n",
    "    def __init__(self):\n",
    "        print('Animal created')\n",
    "    def who_am_i(self):\n",
    "        print('I am an animal')\n",
    "    def eat(self):\n",
    "        print('Iam eating')"
   ]
  },
  {
   "cell_type": "code",
   "execution_count": 55,
   "id": "473362ae",
   "metadata": {},
   "outputs": [
    {
     "name": "stdout",
     "output_type": "stream",
     "text": [
      "Animal created\n"
     ]
    }
   ],
   "source": [
    "myanimal = Animal()"
   ]
  },
  {
   "cell_type": "code",
   "execution_count": 56,
   "id": "9c8b56b0",
   "metadata": {},
   "outputs": [
    {
     "name": "stdout",
     "output_type": "stream",
     "text": [
      "Iam eating\n"
     ]
    }
   ],
   "source": [
    "myanimal.eat()"
   ]
  },
  {
   "cell_type": "code",
   "execution_count": 57,
   "id": "b9dae4c2",
   "metadata": {},
   "outputs": [
    {
     "name": "stdout",
     "output_type": "stream",
     "text": [
      "I am an animal\n"
     ]
    }
   ],
   "source": [
    "myanimal.who_am_i()"
   ]
  },
  {
   "cell_type": "code",
   "execution_count": 58,
   "id": "9ab44f69",
   "metadata": {},
   "outputs": [],
   "source": [
    "class Dog(Animal):\n",
    "    def __init__(self):\n",
    "        Animal.__init__(self)\n",
    "        print('Dog created')"
   ]
  },
  {
   "cell_type": "code",
   "execution_count": 59,
   "id": "ce0f49bd",
   "metadata": {},
   "outputs": [
    {
     "name": "stdout",
     "output_type": "stream",
     "text": [
      "Animal created\n",
      "Dog created\n"
     ]
    }
   ],
   "source": [
    "my_dog = Dog()"
   ]
  },
  {
   "cell_type": "code",
   "execution_count": 60,
   "id": "0fc8645d",
   "metadata": {},
   "outputs": [
    {
     "name": "stdout",
     "output_type": "stream",
     "text": [
      "Iam eating\n"
     ]
    }
   ],
   "source": [
    "my_dog.eat()"
   ]
  },
  {
   "cell_type": "code",
   "execution_count": 61,
   "id": "03b22883",
   "metadata": {},
   "outputs": [
    {
     "name": "stdout",
     "output_type": "stream",
     "text": [
      "I am an animal\n"
     ]
    }
   ],
   "source": [
    "my_dog.who_am_i()"
   ]
  },
  {
   "cell_type": "code",
   "execution_count": 62,
   "id": "a9093836",
   "metadata": {},
   "outputs": [],
   "source": [
    "class Dog(Animal):\n",
    "    def __init__(self):\n",
    "        Animal.__init__(self)\n",
    "        print('Dog created')\n",
    "    def who_am_i(self):\n",
    "        print('Iam a dog')"
   ]
  },
  {
   "cell_type": "code",
   "execution_count": 63,
   "id": "ba6ba6ef",
   "metadata": {},
   "outputs": [
    {
     "name": "stdout",
     "output_type": "stream",
     "text": [
      "Animal created\n",
      "Dog created\n"
     ]
    }
   ],
   "source": [
    "my_dog = Dog()"
   ]
  },
  {
   "cell_type": "code",
   "execution_count": 64,
   "id": "9aff3c41",
   "metadata": {},
   "outputs": [
    {
     "name": "stdout",
     "output_type": "stream",
     "text": [
      "Iam a dog\n"
     ]
    }
   ],
   "source": [
    "my_dog.who_am_i()"
   ]
  },
  {
   "cell_type": "code",
   "execution_count": 65,
   "id": "a764be21",
   "metadata": {},
   "outputs": [],
   "source": [
    "class Dog(Animal):\n",
    "    def __init__(self):\n",
    "        Animal.__init__(self)\n",
    "        print('Dog created')\n",
    "    def who_am_i(self):\n",
    "        print('Iam a dog')\n",
    "    def eat(self):\n",
    "        print('Iam a dog and eating')\n",
    "    def bark(self):\n",
    "        print('Woof!')\n",
    "        "
   ]
  },
  {
   "cell_type": "code",
   "execution_count": 66,
   "id": "bd2411c6",
   "metadata": {},
   "outputs": [
    {
     "name": "stdout",
     "output_type": "stream",
     "text": [
      "Animal created\n",
      "Dog created\n"
     ]
    }
   ],
   "source": [
    "my_dog = Dog()"
   ]
  },
  {
   "cell_type": "code",
   "execution_count": 67,
   "id": "1d6d180f",
   "metadata": {},
   "outputs": [
    {
     "name": "stdout",
     "output_type": "stream",
     "text": [
      "Iam a dog and eating\n"
     ]
    }
   ],
   "source": [
    "my_dog.eat()"
   ]
  },
  {
   "cell_type": "code",
   "execution_count": 68,
   "id": "1c729d4f",
   "metadata": {},
   "outputs": [
    {
     "name": "stdout",
     "output_type": "stream",
     "text": [
      "Woof!\n"
     ]
    }
   ],
   "source": [
    "my_dog.bark()"
   ]
  },
  {
   "cell_type": "code",
   "execution_count": 69,
   "id": "434be113",
   "metadata": {},
   "outputs": [],
   "source": [
    "class Dog():\n",
    "    def __init__(self,name):\n",
    "        self.name = name\n",
    "    def speak(self):\n",
    "        return self.name + ' says woof!'\n",
    "class Cat():\n",
    "    def __init__(self,name):\n",
    "        self.name = name\n",
    "    def speak(self):\n",
    "        return self.name + ' says meow!'"
   ]
  },
  {
   "cell_type": "code",
   "execution_count": 70,
   "id": "7b4d6334",
   "metadata": {},
   "outputs": [],
   "source": [
    "niko = Dog('niko')"
   ]
  },
  {
   "cell_type": "code",
   "execution_count": 71,
   "id": "f2c59804",
   "metadata": {},
   "outputs": [],
   "source": [
    "felix = Cat('felix')"
   ]
  },
  {
   "cell_type": "code",
   "execution_count": 72,
   "id": "14c6ec7f",
   "metadata": {},
   "outputs": [
    {
     "name": "stdout",
     "output_type": "stream",
     "text": [
      "niko says woof!\n"
     ]
    }
   ],
   "source": [
    "print(niko.speak())"
   ]
  },
  {
   "cell_type": "code",
   "execution_count": 73,
   "id": "44179061",
   "metadata": {},
   "outputs": [
    {
     "name": "stdout",
     "output_type": "stream",
     "text": [
      "felix says meow!\n"
     ]
    }
   ],
   "source": [
    "print(felix.speak())"
   ]
  },
  {
   "cell_type": "code",
   "execution_count": 74,
   "id": "0cc0051c",
   "metadata": {},
   "outputs": [
    {
     "name": "stdout",
     "output_type": "stream",
     "text": [
      "<class '__main__.Dog'>\n",
      "niko says woof!\n",
      "<class '__main__.Cat'>\n",
      "felix says meow!\n"
     ]
    }
   ],
   "source": [
    "for pet in [niko,felix]:\n",
    "    print(type(pet))\n",
    "    print(pet.speak())"
   ]
  },
  {
   "cell_type": "code",
   "execution_count": 75,
   "id": "52578871",
   "metadata": {},
   "outputs": [],
   "source": [
    "def pet_speak(pet):\n",
    "    print(pet.speak())"
   ]
  },
  {
   "cell_type": "code",
   "execution_count": 76,
   "id": "4c579a68",
   "metadata": {},
   "outputs": [
    {
     "name": "stdout",
     "output_type": "stream",
     "text": [
      "niko says woof!\n"
     ]
    }
   ],
   "source": [
    "pet_speak(niko)"
   ]
  },
  {
   "cell_type": "code",
   "execution_count": 77,
   "id": "48c58713",
   "metadata": {},
   "outputs": [
    {
     "name": "stdout",
     "output_type": "stream",
     "text": [
      "felix says meow!\n"
     ]
    }
   ],
   "source": [
    "pet_speak(felix)"
   ]
  },
  {
   "cell_type": "code",
   "execution_count": 78,
   "id": "66541102",
   "metadata": {},
   "outputs": [],
   "source": [
    "class Animal():\n",
    "    def __init__(self,name):\n",
    "        self.name = name\n",
    "    def speak(self):\n",
    "        raise NotImplementedError('Subclass must implement this abstract method')"
   ]
  },
  {
   "cell_type": "code",
   "execution_count": 79,
   "id": "99041b27",
   "metadata": {},
   "outputs": [],
   "source": [
    "myanimal = Animal('fred')"
   ]
  },
  {
   "cell_type": "code",
   "execution_count": 80,
   "id": "7f6899aa",
   "metadata": {},
   "outputs": [
    {
     "ename": "NotImplementedError",
     "evalue": "Subclass must implement this abstract method",
     "output_type": "error",
     "traceback": [
      "\u001b[1;31m---------------------------------------------------------------------------\u001b[0m",
      "\u001b[1;31mNotImplementedError\u001b[0m                       Traceback (most recent call last)",
      "Cell \u001b[1;32mIn[80], line 1\u001b[0m\n\u001b[1;32m----> 1\u001b[0m \u001b[43mmyanimal\u001b[49m\u001b[38;5;241;43m.\u001b[39;49m\u001b[43mspeak\u001b[49m\u001b[43m(\u001b[49m\u001b[43m)\u001b[49m\n",
      "Cell \u001b[1;32mIn[78], line 5\u001b[0m, in \u001b[0;36mAnimal.speak\u001b[1;34m(self)\u001b[0m\n\u001b[0;32m      4\u001b[0m \u001b[38;5;28;01mdef\u001b[39;00m \u001b[38;5;21mspeak\u001b[39m(\u001b[38;5;28mself\u001b[39m):\n\u001b[1;32m----> 5\u001b[0m     \u001b[38;5;28;01mraise\u001b[39;00m \u001b[38;5;167;01mNotImplementedError\u001b[39;00m(\u001b[38;5;124m'\u001b[39m\u001b[38;5;124mSubclass must implement this abstract method\u001b[39m\u001b[38;5;124m'\u001b[39m)\n",
      "\u001b[1;31mNotImplementedError\u001b[0m: Subclass must implement this abstract method"
     ]
    }
   ],
   "source": [
    "myanimal.speak()"
   ]
  },
  {
   "cell_type": "code",
   "execution_count": 81,
   "id": "e3905138",
   "metadata": {},
   "outputs": [],
   "source": [
    "class Dog(Animal):\n",
    "    def speak(self):\n",
    "        return self.name + ' says woof!'\n",
    "    "
   ]
  },
  {
   "cell_type": "code",
   "execution_count": 82,
   "id": "6d95420e",
   "metadata": {},
   "outputs": [],
   "source": [
    "class Cat(Animal):\n",
    "    def speak(self):\n",
    "        return self.name + ' says meow!'"
   ]
  },
  {
   "cell_type": "code",
   "execution_count": 83,
   "id": "1da8a9e7",
   "metadata": {},
   "outputs": [],
   "source": [
    "fido = Dog('fido')"
   ]
  },
  {
   "cell_type": "code",
   "execution_count": 84,
   "id": "5e49cd88",
   "metadata": {},
   "outputs": [],
   "source": [
    "isis = Cat('isis')"
   ]
  },
  {
   "cell_type": "code",
   "execution_count": 85,
   "id": "69a86a99",
   "metadata": {},
   "outputs": [
    {
     "name": "stdout",
     "output_type": "stream",
     "text": [
      "fido says woof!\n"
     ]
    }
   ],
   "source": [
    "print(fido.speak())"
   ]
  },
  {
   "cell_type": "code",
   "execution_count": 86,
   "id": "26c1d33a",
   "metadata": {},
   "outputs": [
    {
     "name": "stdout",
     "output_type": "stream",
     "text": [
      "isis says meow!\n"
     ]
    }
   ],
   "source": [
    "print(isis.speak())"
   ]
  },
  {
   "cell_type": "code",
   "execution_count": 87,
   "id": "61652bc6",
   "metadata": {},
   "outputs": [],
   "source": [
    "#Special Methods Magic & Dunder"
   ]
  },
  {
   "cell_type": "code",
   "execution_count": 88,
   "id": "8a138ce2",
   "metadata": {},
   "outputs": [],
   "source": [
    "mylist = [1,2,3,4]"
   ]
  },
  {
   "cell_type": "code",
   "execution_count": 89,
   "id": "b087cbe9",
   "metadata": {},
   "outputs": [
    {
     "data": {
      "text/plain": [
       "4"
      ]
     },
     "execution_count": 89,
     "metadata": {},
     "output_type": "execute_result"
    }
   ],
   "source": [
    "len(mylist)"
   ]
  },
  {
   "cell_type": "code",
   "execution_count": 90,
   "id": "60e6a4d6",
   "metadata": {},
   "outputs": [],
   "source": [
    "class Sample():\n",
    "    pass"
   ]
  },
  {
   "cell_type": "code",
   "execution_count": 91,
   "id": "231bda9b",
   "metadata": {},
   "outputs": [],
   "source": [
    "mysample = Sample()"
   ]
  },
  {
   "cell_type": "code",
   "execution_count": 92,
   "id": "fd88f98c",
   "metadata": {},
   "outputs": [
    {
     "ename": "TypeError",
     "evalue": "object of type 'Sample' has no len()",
     "output_type": "error",
     "traceback": [
      "\u001b[1;31m---------------------------------------------------------------------------\u001b[0m",
      "\u001b[1;31mTypeError\u001b[0m                                 Traceback (most recent call last)",
      "Cell \u001b[1;32mIn[92], line 1\u001b[0m\n\u001b[1;32m----> 1\u001b[0m \u001b[38;5;28;43mlen\u001b[39;49m\u001b[43m(\u001b[49m\u001b[43mmysample\u001b[49m\u001b[43m)\u001b[49m\n",
      "\u001b[1;31mTypeError\u001b[0m: object of type 'Sample' has no len()"
     ]
    }
   ],
   "source": [
    "len(mysample)"
   ]
  },
  {
   "cell_type": "code",
   "execution_count": 93,
   "id": "a3401469",
   "metadata": {},
   "outputs": [
    {
     "name": "stdout",
     "output_type": "stream",
     "text": [
      "<__main__.Sample object at 0x000001F785DC7D00>\n"
     ]
    }
   ],
   "source": [
    "print(mysample)"
   ]
  },
  {
   "cell_type": "code",
   "execution_count": 94,
   "id": "312ce4fb",
   "metadata": {},
   "outputs": [
    {
     "name": "stdout",
     "output_type": "stream",
     "text": [
      "[1, 2, 3, 4]\n"
     ]
    }
   ],
   "source": [
    "print(mylist)"
   ]
  },
  {
   "cell_type": "code",
   "execution_count": 95,
   "id": "d30803d9",
   "metadata": {},
   "outputs": [],
   "source": [
    "class Book():\n",
    "    def __init__(self,title,author,pages):\n",
    "        #the attribute = equal to instance\n",
    "        self.title = title\n",
    "        self.author = author\n",
    "        self.pages = pages\n",
    "        "
   ]
  },
  {
   "cell_type": "code",
   "execution_count": 96,
   "id": "57f8b596",
   "metadata": {},
   "outputs": [],
   "source": [
    "b = Book('Python Rocks!','Diwash',200)"
   ]
  },
  {
   "cell_type": "code",
   "execution_count": 97,
   "id": "d8ac9a4f",
   "metadata": {},
   "outputs": [
    {
     "name": "stdout",
     "output_type": "stream",
     "text": [
      "<__main__.Book object at 0x000001F784C7E410>\n"
     ]
    }
   ],
   "source": [
    "print(b)"
   ]
  },
  {
   "cell_type": "code",
   "execution_count": 98,
   "id": "5fef9b40",
   "metadata": {},
   "outputs": [
    {
     "data": {
      "text/plain": [
       "'<__main__.Book object at 0x000001F784C7E410>'"
      ]
     },
     "execution_count": 98,
     "metadata": {},
     "output_type": "execute_result"
    }
   ],
   "source": [
    "str(b)"
   ]
  },
  {
   "cell_type": "code",
   "execution_count": 99,
   "id": "4b80e01a",
   "metadata": {},
   "outputs": [],
   "source": [
    "class Book():\n",
    "    def __init__(self,title,author,pages):\n",
    "        #the attribute = equal to instance\n",
    "        self.title = title\n",
    "        self.author = author\n",
    "        self.pages = pages\n",
    "    def __str__(self):\n",
    "        return f'{self.title} by {self.author}'\n",
    "    def __len__(self):\n",
    "        return self.pages\n",
    "    def __del__(self):\n",
    "        print('A book object has been deleted')"
   ]
  },
  {
   "cell_type": "code",
   "execution_count": 100,
   "id": "83e7e138",
   "metadata": {},
   "outputs": [],
   "source": [
    "b = Book('Python Rocks!','Diwash',200)"
   ]
  },
  {
   "cell_type": "code",
   "execution_count": 101,
   "id": "5ba19a30",
   "metadata": {},
   "outputs": [
    {
     "name": "stdout",
     "output_type": "stream",
     "text": [
      "Python Rocks! by Diwash\n"
     ]
    }
   ],
   "source": [
    "print(b)"
   ]
  },
  {
   "cell_type": "code",
   "execution_count": 102,
   "id": "f5e9b8a1",
   "metadata": {},
   "outputs": [
    {
     "data": {
      "text/plain": [
       "200"
      ]
     },
     "execution_count": 102,
     "metadata": {},
     "output_type": "execute_result"
    }
   ],
   "source": [
    "len(b)"
   ]
  },
  {
   "cell_type": "code",
   "execution_count": 103,
   "id": "10469a48",
   "metadata": {},
   "outputs": [
    {
     "name": "stdout",
     "output_type": "stream",
     "text": [
      "Python Rocks! by Diwash\n"
     ]
    }
   ],
   "source": [
    "print(b)"
   ]
  },
  {
   "cell_type": "code",
   "execution_count": 104,
   "id": "f94a58d2",
   "metadata": {},
   "outputs": [
    {
     "name": "stdout",
     "output_type": "stream",
     "text": [
      "A book object has been deleted\n"
     ]
    }
   ],
   "source": [
    "del b"
   ]
  },
  {
   "cell_type": "code",
   "execution_count": 105,
   "id": "f1b197e7",
   "metadata": {},
   "outputs": [
    {
     "ename": "NameError",
     "evalue": "name 'b' is not defined",
     "output_type": "error",
     "traceback": [
      "\u001b[1;31m---------------------------------------------------------------------------\u001b[0m",
      "\u001b[1;31mNameError\u001b[0m                                 Traceback (most recent call last)",
      "Cell \u001b[1;32mIn[105], line 1\u001b[0m\n\u001b[1;32m----> 1\u001b[0m \u001b[43mb\u001b[49m\n",
      "\u001b[1;31mNameError\u001b[0m: name 'b' is not defined"
     ]
    }
   ],
   "source": [
    "b"
   ]
  },
  {
   "cell_type": "code",
   "execution_count": 106,
   "id": "c98763f6",
   "metadata": {},
   "outputs": [],
   "source": [
    "class Simple():\n",
    "    def __init__(self,value):\n",
    "        self.value = value\n",
    "    def add_to_value(self,amount):\n",
    "        self.value = self.value+ amount"
   ]
  },
  {
   "cell_type": "code",
   "execution_count": 107,
   "id": "4575147c",
   "metadata": {},
   "outputs": [],
   "source": [
    "my_obj = Simple(300)"
   ]
  },
  {
   "cell_type": "code",
   "execution_count": 108,
   "id": "14c085ca",
   "metadata": {},
   "outputs": [
    {
     "data": {
      "text/plain": [
       "300"
      ]
     },
     "execution_count": 108,
     "metadata": {},
     "output_type": "execute_result"
    }
   ],
   "source": [
    "my_obj.value"
   ]
  },
  {
   "cell_type": "code",
   "execution_count": 109,
   "id": "e76a07ad",
   "metadata": {},
   "outputs": [],
   "source": [
    "my_obj.add_to_value(500)"
   ]
  },
  {
   "cell_type": "code",
   "execution_count": 110,
   "id": "cbcde8a3",
   "metadata": {},
   "outputs": [
    {
     "data": {
      "text/plain": [
       "800"
      ]
     },
     "execution_count": 110,
     "metadata": {},
     "output_type": "execute_result"
    }
   ],
   "source": [
    "my_obj.value"
   ]
  },
  {
   "cell_type": "code",
   "execution_count": null,
   "id": "ad8190ea",
   "metadata": {},
   "outputs": [],
   "source": [
    "#Calling methods that affect attributes"
   ]
  },
  {
   "cell_type": "code",
   "execution_count": 121,
   "id": "4e70321e",
   "metadata": {},
   "outputs": [],
   "source": [
    "class Simple():\n",
    "    def __init__(self,value):\n",
    "        self.value = value\n",
    "    def add_to_value(self,amount):\n",
    "        # takes in the current value of self plus the amount\n",
    "        self.value = self.value + amount\n",
    "        print('We just added {} to your value '.format(amount))"
   ]
  },
  {
   "cell_type": "code",
   "execution_count": 122,
   "id": "918d1a05",
   "metadata": {},
   "outputs": [],
   "source": [
    "myobj = Simple(300)"
   ]
  },
  {
   "cell_type": "code",
   "execution_count": 123,
   "id": "a22226ba",
   "metadata": {},
   "outputs": [
    {
     "data": {
      "text/plain": [
       "300"
      ]
     },
     "execution_count": 123,
     "metadata": {},
     "output_type": "execute_result"
    }
   ],
   "source": [
    "myobj.value"
   ]
  },
  {
   "cell_type": "code",
   "execution_count": 124,
   "id": "8ac4aa81",
   "metadata": {},
   "outputs": [
    {
     "name": "stdout",
     "output_type": "stream",
     "text": [
      "We just added 500 to your value \n"
     ]
    }
   ],
   "source": [
    "myobj.add_to_value(500)"
   ]
  },
  {
   "cell_type": "code",
   "execution_count": 125,
   "id": "3dae9d4d",
   "metadata": {},
   "outputs": [
    {
     "data": {
      "text/plain": [
       "800"
      ]
     },
     "execution_count": 125,
     "metadata": {},
     "output_type": "execute_result"
    }
   ],
   "source": [
    "myobj.value"
   ]
  },
  {
   "cell_type": "code",
   "execution_count": null,
   "id": "f0095127",
   "metadata": {},
   "outputs": [],
   "source": []
  }
 ],
 "metadata": {
  "kernelspec": {
   "display_name": "Python 3 (ipykernel)",
   "language": "python",
   "name": "python3"
  },
  "language_info": {
   "codemirror_mode": {
    "name": "ipython",
    "version": 3
   },
   "file_extension": ".py",
   "mimetype": "text/x-python",
   "name": "python",
   "nbconvert_exporter": "python",
   "pygments_lexer": "ipython3",
   "version": "3.10.9"
  }
 },
 "nbformat": 4,
 "nbformat_minor": 5
}
