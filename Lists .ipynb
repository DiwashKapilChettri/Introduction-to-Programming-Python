{
 "cells": [
  {
   "cell_type": "code",
   "execution_count": 2,
   "id": "fcac7c6f",
   "metadata": {},
   "outputs": [],
   "source": [
    "##lISTS"
   ]
  },
  {
   "cell_type": "code",
   "execution_count": 3,
   "id": "e9d2a594",
   "metadata": {},
   "outputs": [],
   "source": [
    "my_list = [1,2,3,4,5]"
   ]
  },
  {
   "cell_type": "code",
   "execution_count": 4,
   "id": "90947d85",
   "metadata": {},
   "outputs": [
    {
     "data": {
      "text/plain": [
       "[1, 2, 3, 4, 5]"
      ]
     },
     "execution_count": 4,
     "metadata": {},
     "output_type": "execute_result"
    }
   ],
   "source": [
    "my_list"
   ]
  },
  {
   "cell_type": "code",
   "execution_count": 5,
   "id": "b24bfb7d",
   "metadata": {},
   "outputs": [],
   "source": [
    "mystring= 'HELLO'"
   ]
  },
  {
   "cell_type": "code",
   "execution_count": 7,
   "id": "6d1dff89",
   "metadata": {},
   "outputs": [
    {
     "data": {
      "text/plain": [
       "['H', 'LLO']"
      ]
     },
     "execution_count": 7,
     "metadata": {},
     "output_type": "execute_result"
    }
   ],
   "source": [
    "mystring.split('E')"
   ]
  },
  {
   "cell_type": "code",
   "execution_count": 8,
   "id": "9016ec9d",
   "metadata": {},
   "outputs": [
    {
     "data": {
      "text/plain": [
       "[1, 2, 3, 4, 5]"
      ]
     },
     "execution_count": 8,
     "metadata": {},
     "output_type": "execute_result"
    }
   ],
   "source": [
    "my_list\n"
   ]
  },
  {
   "cell_type": "code",
   "execution_count": 9,
   "id": "9a03987a",
   "metadata": {},
   "outputs": [],
   "source": [
    "my_list = [1,'string',23.2]"
   ]
  },
  {
   "cell_type": "code",
   "execution_count": 10,
   "id": "0361ec8c",
   "metadata": {},
   "outputs": [
    {
     "data": {
      "text/plain": [
       "[1, 'string', 23.2]"
      ]
     },
     "execution_count": 10,
     "metadata": {},
     "output_type": "execute_result"
    }
   ],
   "source": [
    "my_list\n"
   ]
  },
  {
   "cell_type": "code",
   "execution_count": 11,
   "id": "414c3951",
   "metadata": {},
   "outputs": [
    {
     "data": {
      "text/plain": [
       "3"
      ]
     },
     "execution_count": 11,
     "metadata": {},
     "output_type": "execute_result"
    }
   ],
   "source": [
    "len(my_list)"
   ]
  },
  {
   "cell_type": "code",
   "execution_count": 14,
   "id": "525155ad",
   "metadata": {},
   "outputs": [
    {
     "data": {
      "text/plain": [
       "'string'"
      ]
     },
     "execution_count": 14,
     "metadata": {},
     "output_type": "execute_result"
    }
   ],
   "source": [
    "my_list[1] #indexing\n"
   ]
  },
  {
   "cell_type": "code",
   "execution_count": 15,
   "id": "9faeefcb",
   "metadata": {},
   "outputs": [
    {
     "data": {
      "text/plain": [
       "['string', 23.2]"
      ]
     },
     "execution_count": 15,
     "metadata": {},
     "output_type": "execute_result"
    }
   ],
   "source": [
    "my_list[1:]"
   ]
  },
  {
   "cell_type": "code",
   "execution_count": 16,
   "id": "37968522",
   "metadata": {},
   "outputs": [
    {
     "data": {
      "text/plain": [
       "[1, 'string', 23.2]"
      ]
     },
     "execution_count": 16,
     "metadata": {},
     "output_type": "execute_result"
    }
   ],
   "source": [
    "my_list"
   ]
  },
  {
   "cell_type": "code",
   "execution_count": 19,
   "id": "7c29e873",
   "metadata": {},
   "outputs": [
    {
     "data": {
      "text/plain": [
       "[1, 'string']"
      ]
     },
     "execution_count": 19,
     "metadata": {},
     "output_type": "execute_result"
    }
   ],
   "source": [
    "my_list[0:2]"
   ]
  },
  {
   "cell_type": "code",
   "execution_count": 18,
   "id": "fcfb0da0",
   "metadata": {},
   "outputs": [
    {
     "data": {
      "text/plain": [
       "[1, 'string', 23.2]"
      ]
     },
     "execution_count": 18,
     "metadata": {},
     "output_type": "execute_result"
    }
   ],
   "source": [
    "my_list"
   ]
  },
  {
   "cell_type": "code",
   "execution_count": 20,
   "id": "6baead19",
   "metadata": {},
   "outputs": [],
   "source": [
    "second_list = [4,5,'six']"
   ]
  },
  {
   "cell_type": "code",
   "execution_count": 21,
   "id": "f0b86ef5",
   "metadata": {},
   "outputs": [],
   "source": [
    "new_list = my_list + second_list"
   ]
  },
  {
   "cell_type": "code",
   "execution_count": 22,
   "id": "b250e96c",
   "metadata": {},
   "outputs": [
    {
     "data": {
      "text/plain": [
       "[1, 'string', 23.2, 4, 5, 'six']"
      ]
     },
     "execution_count": 22,
     "metadata": {},
     "output_type": "execute_result"
    }
   ],
   "source": [
    "new_list"
   ]
  },
  {
   "cell_type": "code",
   "execution_count": 23,
   "id": "8ec02c03",
   "metadata": {},
   "outputs": [
    {
     "data": {
      "text/plain": [
       "[4, 5, 'six']"
      ]
     },
     "execution_count": 23,
     "metadata": {},
     "output_type": "execute_result"
    }
   ],
   "source": [
    "second_list"
   ]
  },
  {
   "cell_type": "code",
   "execution_count": 24,
   "id": "e60029bd",
   "metadata": {},
   "outputs": [],
   "source": [
    "second_list[0] = 'CHANGED'"
   ]
  },
  {
   "cell_type": "code",
   "execution_count": 25,
   "id": "f5bfa192",
   "metadata": {},
   "outputs": [
    {
     "data": {
      "text/plain": [
       "['CHANGED', 5, 'six']"
      ]
     },
     "execution_count": 25,
     "metadata": {},
     "output_type": "execute_result"
    }
   ],
   "source": [
    "second_list"
   ]
  },
  {
   "cell_type": "code",
   "execution_count": 26,
   "id": "3302f034",
   "metadata": {},
   "outputs": [],
   "source": [
    "mstring = 'Hello'"
   ]
  },
  {
   "cell_type": "code",
   "execution_count": 27,
   "id": "eddb843a",
   "metadata": {},
   "outputs": [
    {
     "data": {
      "text/plain": [
       "'H'"
      ]
     },
     "execution_count": 27,
     "metadata": {},
     "output_type": "execute_result"
    }
   ],
   "source": [
    "mstring[0]"
   ]
  },
  {
   "cell_type": "code",
   "execution_count": 29,
   "id": "0bd49821",
   "metadata": {},
   "outputs": [
    {
     "ename": "TypeError",
     "evalue": "'str' object does not support item assignment",
     "output_type": "error",
     "traceback": [
      "\u001b[1;31m---------------------------------------------------------------------------\u001b[0m",
      "\u001b[1;31mTypeError\u001b[0m                                 Traceback (most recent call last)",
      "Cell \u001b[1;32mIn[29], line 1\u001b[0m\n\u001b[1;32m----> 1\u001b[0m mstring[\u001b[38;5;241m0\u001b[39m] \u001b[38;5;241m=\u001b[39m \u001b[38;5;124m'\u001b[39m\u001b[38;5;124mP\u001b[39m\u001b[38;5;124m'\u001b[39m\n",
      "\u001b[1;31mTypeError\u001b[0m: 'str' object does not support item assignment"
     ]
    }
   ],
   "source": [
    "mstring[0] = 'P'"
   ]
  },
  {
   "cell_type": "code",
   "execution_count": 30,
   "id": "37865dec",
   "metadata": {},
   "outputs": [],
   "source": [
    "newstring = mstring[1:]"
   ]
  },
  {
   "cell_type": "code",
   "execution_count": 31,
   "id": "ac87d99a",
   "metadata": {},
   "outputs": [
    {
     "data": {
      "text/plain": [
       "'ello'"
      ]
     },
     "execution_count": 31,
     "metadata": {},
     "output_type": "execute_result"
    }
   ],
   "source": [
    "newstring"
   ]
  },
  {
   "cell_type": "code",
   "execution_count": 32,
   "id": "77624057",
   "metadata": {},
   "outputs": [],
   "source": [
    "new_word = 'P' + newstring"
   ]
  },
  {
   "cell_type": "code",
   "execution_count": 33,
   "id": "4839ab73",
   "metadata": {},
   "outputs": [
    {
     "data": {
      "text/plain": [
       "'Pello'"
      ]
     },
     "execution_count": 33,
     "metadata": {},
     "output_type": "execute_result"
    }
   ],
   "source": [
    "new_word"
   ]
  },
  {
   "cell_type": "code",
   "execution_count": 34,
   "id": "36f817b9",
   "metadata": {},
   "outputs": [
    {
     "data": {
      "text/plain": [
       "['CHANGED', 5, 'six']"
      ]
     },
     "execution_count": 34,
     "metadata": {},
     "output_type": "execute_result"
    }
   ],
   "source": [
    "second_list"
   ]
  },
  {
   "cell_type": "code",
   "execution_count": 35,
   "id": "5c28f983",
   "metadata": {},
   "outputs": [],
   "source": [
    "second_list.append('seven')"
   ]
  },
  {
   "cell_type": "code",
   "execution_count": 37,
   "id": "888f91e2",
   "metadata": {},
   "outputs": [
    {
     "data": {
      "text/plain": [
       "['CHANGED', 5, 'six', 'seven']"
      ]
     },
     "execution_count": 37,
     "metadata": {},
     "output_type": "execute_result"
    }
   ],
   "source": [
    "second_list"
   ]
  },
  {
   "cell_type": "code",
   "execution_count": 41,
   "id": "2013a00b",
   "metadata": {},
   "outputs": [
    {
     "data": {
      "text/plain": [
       "'six'"
      ]
     },
     "execution_count": 41,
     "metadata": {},
     "output_type": "execute_result"
    }
   ],
   "source": [
    "second_list.pop(2)"
   ]
  },
  {
   "cell_type": "code",
   "execution_count": 42,
   "id": "336b39fa",
   "metadata": {},
   "outputs": [
    {
     "data": {
      "text/plain": [
       "['CHANGED', 5]"
      ]
     },
     "execution_count": 42,
     "metadata": {},
     "output_type": "execute_result"
    }
   ],
   "source": [
    "second_list"
   ]
  },
  {
   "cell_type": "code",
   "execution_count": 43,
   "id": "0d902dd6",
   "metadata": {},
   "outputs": [],
   "source": [
    "new_list = [2,3,'hi',4,5]"
   ]
  },
  {
   "cell_type": "code",
   "execution_count": 44,
   "id": "b9930eec",
   "metadata": {},
   "outputs": [
    {
     "data": {
      "text/plain": [
       "5"
      ]
     },
     "execution_count": 44,
     "metadata": {},
     "output_type": "execute_result"
    }
   ],
   "source": [
    "new_list[-1]"
   ]
  },
  {
   "cell_type": "code",
   "execution_count": 45,
   "id": "3708370c",
   "metadata": {},
   "outputs": [],
   "source": [
    "new_list= ['a','x','c','z','b']\n",
    "num_list = [5,7,1,2,8]"
   ]
  },
  {
   "cell_type": "code",
   "execution_count": 58,
   "id": "03fcc2a4",
   "metadata": {},
   "outputs": [],
   "source": [
    "num_list.sort()"
   ]
  },
  {
   "cell_type": "code",
   "execution_count": 62,
   "id": "5d5d3470",
   "metadata": {},
   "outputs": [],
   "source": [
    "sorted_list = num_list"
   ]
  },
  {
   "cell_type": "code",
   "execution_count": 64,
   "id": "ffa9dc0b",
   "metadata": {},
   "outputs": [
    {
     "data": {
      "text/plain": [
       "[1, 2, 5, 7, 8]"
      ]
     },
     "execution_count": 64,
     "metadata": {},
     "output_type": "execute_result"
    }
   ],
   "source": [
    "sorted_list"
   ]
  },
  {
   "cell_type": "code",
   "execution_count": 65,
   "id": "82d2580f",
   "metadata": {},
   "outputs": [],
   "source": [
    "new_list.reverse()"
   ]
  },
  {
   "cell_type": "code",
   "execution_count": 67,
   "id": "0a2e5c05",
   "metadata": {},
   "outputs": [],
   "source": [
    "reversed_list = new_list"
   ]
  },
  {
   "cell_type": "code",
   "execution_count": 68,
   "id": "0fdc6183",
   "metadata": {},
   "outputs": [
    {
     "data": {
      "text/plain": [
       "['z', 'x', 'c', 'b', 'a']"
      ]
     },
     "execution_count": 68,
     "metadata": {},
     "output_type": "execute_result"
    }
   ],
   "source": [
    "reversed_list"
   ]
  },
  {
   "cell_type": "code",
   "execution_count": 70,
   "id": "9daa57f2",
   "metadata": {},
   "outputs": [],
   "source": [
    "b = None"
   ]
  },
  {
   "cell_type": "code",
   "execution_count": 79,
   "id": "22d15f08",
   "metadata": {},
   "outputs": [],
   "source": [
    " my_list = [5,1,[1,2]]"
   ]
  },
  {
   "cell_type": "code",
   "execution_count": 80,
   "id": "06e14f91",
   "metadata": {},
   "outputs": [
    {
     "data": {
      "text/plain": [
       "[5, 1, [1, 2]]"
      ]
     },
     "execution_count": 80,
     "metadata": {},
     "output_type": "execute_result"
    }
   ],
   "source": [
    "my_list"
   ]
  },
  {
   "cell_type": "code",
   "execution_count": 81,
   "id": "b030d7cf",
   "metadata": {},
   "outputs": [
    {
     "data": {
      "text/plain": [
       "5"
      ]
     },
     "execution_count": 81,
     "metadata": {},
     "output_type": "execute_result"
    }
   ],
   "source": [
    "my_list[0]"
   ]
  },
  {
   "cell_type": "code",
   "execution_count": 75,
   "id": "2d920dae",
   "metadata": {},
   "outputs": [
    {
     "data": {
      "text/plain": [
       "2"
      ]
     },
     "execution_count": 75,
     "metadata": {},
     "output_type": "execute_result"
    }
   ],
   "source": [
    "my_list[2][1]"
   ]
  },
  {
   "cell_type": "code",
   "execution_count": 82,
   "id": "546e1c6f",
   "metadata": {},
   "outputs": [],
   "source": [
    "#if lst=[0,1,2] what is the reuslt of lst.pop()"
   ]
  },
  {
   "cell_type": "code",
   "execution_count": 84,
   "id": "6c55c3d2",
   "metadata": {},
   "outputs": [
    {
     "data": {
      "text/plain": [
       "2"
      ]
     },
     "execution_count": 84,
     "metadata": {},
     "output_type": "execute_result"
    }
   ],
   "source": [
    "lst=[0,1,2]\n",
    "lst.pop()"
   ]
  },
  {
   "cell_type": "code",
   "execution_count": 85,
   "id": "c204b458",
   "metadata": {},
   "outputs": [
    {
     "data": {
      "text/plain": [
       "[0, 1]"
      ]
     },
     "execution_count": 85,
     "metadata": {},
     "output_type": "execute_result"
    }
   ],
   "source": [
    "lst"
   ]
  },
  {
   "cell_type": "code",
   "execution_count": 86,
   "id": "e3a911c8",
   "metadata": {},
   "outputs": [],
   "source": [
    "#if lst = ['a','b','c'] what is theresult of lst[1:]"
   ]
  },
  {
   "cell_type": "code",
   "execution_count": 87,
   "id": "63d45f59",
   "metadata": {},
   "outputs": [],
   "source": [
    "#Dictionaries"
   ]
  },
  {
   "cell_type": "code",
   "execution_count": 89,
   "id": "7922d070",
   "metadata": {},
   "outputs": [],
   "source": [
    "my_dict = {'key1':'value1','key2':'value2','key3':'value3'}"
   ]
  },
  {
   "cell_type": "code",
   "execution_count": 90,
   "id": "917f39eb",
   "metadata": {},
   "outputs": [
    {
     "data": {
      "text/plain": [
       "{'key1': 'value1', 'key2': 'value2', 'key3': 'value3'}"
      ]
     },
     "execution_count": 90,
     "metadata": {},
     "output_type": "execute_result"
    }
   ],
   "source": [
    "my_dict"
   ]
  },
  {
   "cell_type": "code",
   "execution_count": 91,
   "id": "4a6d2c60",
   "metadata": {},
   "outputs": [
    {
     "data": {
      "text/plain": [
       "'value1'"
      ]
     },
     "execution_count": 91,
     "metadata": {},
     "output_type": "execute_result"
    }
   ],
   "source": [
    "my_dict['key1']"
   ]
  },
  {
   "cell_type": "code",
   "execution_count": 95,
   "id": "6bec2c24",
   "metadata": {},
   "outputs": [],
   "source": [
    "prices_lookup={'apple':200 ,'banana':90,'mango':70}"
   ]
  },
  {
   "cell_type": "code",
   "execution_count": 96,
   "id": "3e648f59",
   "metadata": {},
   "outputs": [
    {
     "data": {
      "text/plain": [
       "{'apple': 200, 'banana': 90, 'mango': 70}"
      ]
     },
     "execution_count": 96,
     "metadata": {},
     "output_type": "execute_result"
    }
   ],
   "source": [
    "prices_lookup"
   ]
  },
  {
   "cell_type": "code",
   "execution_count": 97,
   "id": "1e142c92",
   "metadata": {},
   "outputs": [
    {
     "data": {
      "text/plain": [
       "200"
      ]
     },
     "execution_count": 97,
     "metadata": {},
     "output_type": "execute_result"
    }
   ],
   "source": [
    "prices_lookup['apple']"
   ]
  },
  {
   "cell_type": "code",
   "execution_count": 98,
   "id": "d008a396",
   "metadata": {},
   "outputs": [],
   "source": [
    "d = {'k1':100,'k2':[1,2,3],'k3':{'inside_key':100}} "
   ]
  },
  {
   "cell_type": "code",
   "execution_count": 99,
   "id": "feaff2b1",
   "metadata": {},
   "outputs": [
    {
     "data": {
      "text/plain": [
       "100"
      ]
     },
     "execution_count": 99,
     "metadata": {},
     "output_type": "execute_result"
    }
   ],
   "source": [
    "d['k1']"
   ]
  },
  {
   "cell_type": "code",
   "execution_count": 102,
   "id": "bcbb5d37",
   "metadata": {},
   "outputs": [
    {
     "data": {
      "text/plain": [
       "2"
      ]
     },
     "execution_count": 102,
     "metadata": {},
     "output_type": "execute_result"
    }
   ],
   "source": [
    "d['k2'][1]"
   ]
  },
  {
   "cell_type": "code",
   "execution_count": 103,
   "id": "c5fda73d",
   "metadata": {},
   "outputs": [
    {
     "data": {
      "text/plain": [
       "100"
      ]
     },
     "execution_count": 103,
     "metadata": {},
     "output_type": "execute_result"
    }
   ],
   "source": [
    "d['k3']['inside_key']"
   ]
  },
  {
   "cell_type": "code",
   "execution_count": 104,
   "id": "511ed299",
   "metadata": {},
   "outputs": [],
   "source": [
    "newdict = {'apple':200,'price_range':[100,200,150],'green_apples':{'price_range':120}}"
   ]
  },
  {
   "cell_type": "code",
   "execution_count": 105,
   "id": "8e9a3704",
   "metadata": {},
   "outputs": [
    {
     "data": {
      "text/plain": [
       "{'apple': 200,\n",
       " 'price_range': [100, 200, 150],\n",
       " 'green_apples': {'price_range': 120}}"
      ]
     },
     "execution_count": 105,
     "metadata": {},
     "output_type": "execute_result"
    }
   ],
   "source": [
    "newdict"
   ]
  },
  {
   "cell_type": "code",
   "execution_count": 106,
   "id": "edb0a55a",
   "metadata": {},
   "outputs": [
    {
     "data": {
      "text/plain": [
       "200"
      ]
     },
     "execution_count": 106,
     "metadata": {},
     "output_type": "execute_result"
    }
   ],
   "source": [
    "newdict['apple']"
   ]
  },
  {
   "cell_type": "code",
   "execution_count": 108,
   "id": "cf5cb85e",
   "metadata": {},
   "outputs": [
    {
     "data": {
      "text/plain": [
       "150"
      ]
     },
     "execution_count": 108,
     "metadata": {},
     "output_type": "execute_result"
    }
   ],
   "source": [
    "newdict['price_range'][2]"
   ]
  },
  {
   "cell_type": "code",
   "execution_count": 110,
   "id": "1f5bb915",
   "metadata": {},
   "outputs": [
    {
     "data": {
      "text/plain": [
       "120"
      ]
     },
     "execution_count": 110,
     "metadata": {},
     "output_type": "execute_result"
    }
   ],
   "source": [
    "newdict['green_apples']['price_range']"
   ]
  },
  {
   "cell_type": "code",
   "execution_count": 111,
   "id": "67282f87",
   "metadata": {},
   "outputs": [],
   "source": [
    "d = {'k1':['a','b','c']}"
   ]
  },
  {
   "cell_type": "code",
   "execution_count": 113,
   "id": "52005fd8",
   "metadata": {},
   "outputs": [],
   "source": [
    "letter = d['k1']"
   ]
  },
  {
   "cell_type": "code",
   "execution_count": 114,
   "id": "9fb50a81",
   "metadata": {},
   "outputs": [
    {
     "data": {
      "text/plain": [
       "['a', 'b', 'c']"
      ]
     },
     "execution_count": 114,
     "metadata": {},
     "output_type": "execute_result"
    }
   ],
   "source": [
    "letter"
   ]
  },
  {
   "cell_type": "code",
   "execution_count": 115,
   "id": "2cf89e84",
   "metadata": {},
   "outputs": [],
   "source": [
    "myletter = letter[2]"
   ]
  },
  {
   "cell_type": "code",
   "execution_count": 117,
   "id": "3a36396f",
   "metadata": {},
   "outputs": [
    {
     "data": {
      "text/plain": [
       "'C'"
      ]
     },
     "execution_count": 117,
     "metadata": {},
     "output_type": "execute_result"
    }
   ],
   "source": [
    "myletter.upper()"
   ]
  },
  {
   "cell_type": "code",
   "execution_count": 118,
   "id": "66a5d256",
   "metadata": {},
   "outputs": [],
   "source": [
    "d = {'k1':['a','b','c']}\n"
   ]
  },
  {
   "cell_type": "code",
   "execution_count": 123,
   "id": "0543935b",
   "metadata": {},
   "outputs": [
    {
     "data": {
      "text/plain": [
       "'c'"
      ]
     },
     "execution_count": 123,
     "metadata": {},
     "output_type": "execute_result"
    }
   ],
   "source": [
    "d['k1'][2]"
   ]
  },
  {
   "cell_type": "code",
   "execution_count": 124,
   "id": "9a120a0e",
   "metadata": {},
   "outputs": [],
   "source": [
    "dict = {'k1':100,'k2':200}"
   ]
  },
  {
   "cell_type": "code",
   "execution_count": 125,
   "id": "2cb59e12",
   "metadata": {},
   "outputs": [],
   "source": [
    "dict['k3'] = 300"
   ]
  },
  {
   "cell_type": "code",
   "execution_count": 126,
   "id": "6c5ea420",
   "metadata": {},
   "outputs": [
    {
     "data": {
      "text/plain": [
       "{'k1': 100, 'k2': 200, 'k3': 300}"
      ]
     },
     "execution_count": 126,
     "metadata": {},
     "output_type": "execute_result"
    }
   ],
   "source": [
    "dict"
   ]
  },
  {
   "cell_type": "code",
   "execution_count": 127,
   "id": "91e478e7",
   "metadata": {},
   "outputs": [],
   "source": [
    "dict['k1'] = 150"
   ]
  },
  {
   "cell_type": "code",
   "execution_count": 129,
   "id": "c0b30018",
   "metadata": {},
   "outputs": [
    {
     "data": {
      "text/plain": [
       "{'k1': 150, 'k2': 200, 'k3': 300}"
      ]
     },
     "execution_count": 129,
     "metadata": {},
     "output_type": "execute_result"
    }
   ],
   "source": [
    "dict\n"
   ]
  },
  {
   "cell_type": "code",
   "execution_count": 130,
   "id": "8e20ce70",
   "metadata": {},
   "outputs": [
    {
     "data": {
      "text/plain": [
       "dict_keys(['k1', 'k2', 'k3'])"
      ]
     },
     "execution_count": 130,
     "metadata": {},
     "output_type": "execute_result"
    }
   ],
   "source": [
    "dict.keys()"
   ]
  },
  {
   "cell_type": "code",
   "execution_count": 131,
   "id": "05c1a125",
   "metadata": {},
   "outputs": [
    {
     "data": {
      "text/plain": [
       "dict_values([150, 200, 300])"
      ]
     },
     "execution_count": 131,
     "metadata": {},
     "output_type": "execute_result"
    }
   ],
   "source": [
    "dict.values()"
   ]
  },
  {
   "cell_type": "code",
   "execution_count": 132,
   "id": "e7e066ff",
   "metadata": {},
   "outputs": [
    {
     "data": {
      "text/plain": [
       "dict_items([('k1', 150), ('k2', 200), ('k3', 300)])"
      ]
     },
     "execution_count": 132,
     "metadata": {},
     "output_type": "execute_result"
    }
   ],
   "source": [
    "dict.items()"
   ]
  },
  {
   "cell_type": "code",
   "execution_count": 133,
   "id": "e4eb241a",
   "metadata": {},
   "outputs": [],
   "source": [
    "d = {'k1':[1,2,3]}"
   ]
  },
  {
   "cell_type": "code",
   "execution_count": 134,
   "id": "02fe7d73",
   "metadata": {},
   "outputs": [
    {
     "data": {
      "text/plain": [
       "2"
      ]
     },
     "execution_count": 134,
     "metadata": {},
     "output_type": "execute_result"
    }
   ],
   "source": [
    "d['k1'][1]"
   ]
  },
  {
   "cell_type": "code",
   "execution_count": null,
   "id": "b3fb5dd4",
   "metadata": {},
   "outputs": [],
   "source": []
  }
 ],
 "metadata": {
  "kernelspec": {
   "display_name": "Python 3 (ipykernel)",
   "language": "python",
   "name": "python3"
  },
  "language_info": {
   "codemirror_mode": {
    "name": "ipython",
    "version": 3
   },
   "file_extension": ".py",
   "mimetype": "text/x-python",
   "name": "python",
   "nbconvert_exporter": "python",
   "pygments_lexer": "ipython3",
   "version": "3.10.9"
  }
 },
 "nbformat": 4,
 "nbformat_minor": 5
}
